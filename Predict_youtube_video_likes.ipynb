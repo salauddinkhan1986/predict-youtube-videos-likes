{
  "nbformat": 4,
  "nbformat_minor": 0,
  "metadata": {
    "colab": {
      "name": "Predict youtube video likes.ipynb",
      "provenance": [],
      "authorship_tag": "ABX9TyNOqzkSKwE4qI76NnVA9Dqo",
      "include_colab_link": true
    },
    "kernelspec": {
      "name": "python3",
      "display_name": "Python 3"
    },
    "language_info": {
      "name": "python"
    }
  },
  "cells": [
    {
      "cell_type": "markdown",
      "metadata": {
        "id": "view-in-github",
        "colab_type": "text"
      },
      "source": [
        "<a href=\"https://colab.research.google.com/github/salauddinkhan1986/predict-youtube-videos-likes/blob/main/Predict_youtube_video_likes.ipynb\" target=\"_parent\"><img src=\"https://colab.research.google.com/assets/colab-badge.svg\" alt=\"Open In Colab\"/></a>"
      ]
    },
    {
      "cell_type": "markdown",
      "source": [
        "**EDA**"
      ],
      "metadata": {
        "id": "iCHZFnpYtb38"
      }
    },
    {
      "cell_type": "markdown",
      "source": [
        "**Loading Libary**"
      ],
      "metadata": {
        "id": "y0R04sWftDRV"
      }
    },
    {
      "cell_type": "code",
      "execution_count": 500,
      "metadata": {
        "id": "9-39T8VlYU54"
      },
      "outputs": [],
      "source": [
        "import pandas as pd\n",
        "import numpy as np\n",
        "import matplotlib.pyplot as plt\n",
        "import seaborn as sns"
      ]
    },
    {
      "cell_type": "markdown",
      "source": [
        "**Reading dataset**"
      ],
      "metadata": {
        "id": "JU0PEBgbt7xQ"
      }
    },
    {
      "cell_type": "code",
      "source": [
        "\n",
        "data = pd.read_parquet('/content/test.parquet')\n",
        "data.head()"
      ],
      "metadata": {
        "colab": {
          "base_uri": "https://localhost:8080/",
          "height": 548
        },
        "id": "0VnXsCTua8w3",
        "outputId": "ff9ef08a-e0e3-4a09-9438-2775084e8908"
      },
      "execution_count": 501,
      "outputs": [
        {
          "output_type": "execute_result",
          "data": {
            "text/html": [
              "\n",
              "  <div id=\"df-205fdb5a-efcd-4d8a-9f0f-a0c7ca1cba9c\">\n",
              "    <div class=\"colab-df-container\">\n",
              "      <div>\n",
              "<style scoped>\n",
              "    .dataframe tbody tr th:only-of-type {\n",
              "        vertical-align: middle;\n",
              "    }\n",
              "\n",
              "    .dataframe tbody tr th {\n",
              "        vertical-align: top;\n",
              "    }\n",
              "\n",
              "    .dataframe thead th {\n",
              "        text-align: right;\n",
              "    }\n",
              "</style>\n",
              "<table border=\"1\" class=\"dataframe\">\n",
              "  <thead>\n",
              "    <tr style=\"text-align: right;\">\n",
              "      <th></th>\n",
              "      <th>video_id</th>\n",
              "      <th>title</th>\n",
              "      <th>publishedAt</th>\n",
              "      <th>channelId</th>\n",
              "      <th>channelTitle</th>\n",
              "      <th>categoryId</th>\n",
              "      <th>trending_date</th>\n",
              "      <th>tags</th>\n",
              "      <th>thumbnail_link</th>\n",
              "      <th>comments_disabled</th>\n",
              "      <th>ratings_disabled</th>\n",
              "      <th>description</th>\n",
              "      <th>id</th>\n",
              "      <th>duration_seconds</th>\n",
              "      <th>has_thumbnail</th>\n",
              "      <th>isTest</th>\n",
              "    </tr>\n",
              "  </thead>\n",
              "  <tbody>\n",
              "    <tr>\n",
              "      <th>0</th>\n",
              "      <td>_wNsZEqpKUA</td>\n",
              "      <td>Billie Eilish: Same Interview, The Fifth Year ...</td>\n",
              "      <td>2021-11-30 17:00:10+00:00</td>\n",
              "      <td>UCIsbLox_y9dCIMLd8tdC6qg</td>\n",
              "      <td>Vanity Fair</td>\n",
              "      <td>24</td>\n",
              "      <td>2021-12-01</td>\n",
              "      <td>billie|billie eilish|billie eilish 2021|billie...</td>\n",
              "      <td>https://i.ytimg.com/vi/_wNsZEqpKUA/default.jpg</td>\n",
              "      <td>False</td>\n",
              "      <td>False</td>\n",
              "      <td>I'm so much more open to stuff now. On the ver...</td>\n",
              "      <td>_wNsZEqpKUA_2021-12-01</td>\n",
              "      <td>1335.0</td>\n",
              "      <td>True</td>\n",
              "      <td>True</td>\n",
              "    </tr>\n",
              "    <tr>\n",
              "      <th>1</th>\n",
              "      <td>2jfbXZiE6Lc</td>\n",
              "      <td>Redneck vs Fancy Whiskey Glass</td>\n",
              "      <td>2021-11-29 21:30:27+00:00</td>\n",
              "      <td>UCT_QEGH0myu6lgbE_biQPuw</td>\n",
              "      <td>Drew Talbert</td>\n",
              "      <td>23</td>\n",
              "      <td>2021-12-01</td>\n",
              "      <td>[None]</td>\n",
              "      <td>https://i.ytimg.com/vi/2jfbXZiE6Lc/default.jpg</td>\n",
              "      <td>False</td>\n",
              "      <td>False</td>\n",
              "      <td>I’m just shocked Brad was able to sell him in ...</td>\n",
              "      <td>2jfbXZiE6Lc_2021-12-01</td>\n",
              "      <td>28.0</td>\n",
              "      <td>True</td>\n",
              "      <td>True</td>\n",
              "    </tr>\n",
              "    <tr>\n",
              "      <th>2</th>\n",
              "      <td>F1Hq8eVOMHs</td>\n",
              "      <td>Is Meat Really that Bad?</td>\n",
              "      <td>2021-11-30 15:01:34+00:00</td>\n",
              "      <td>UCsXVk37bltHxD1rDPwtNM8Q</td>\n",
              "      <td>Kurzgesagt – In a Nutshell</td>\n",
              "      <td>27</td>\n",
              "      <td>2021-12-01</td>\n",
              "      <td>[None]</td>\n",
              "      <td>https://i.ytimg.com/vi/F1Hq8eVOMHs/default.jpg</td>\n",
              "      <td>False</td>\n",
              "      <td>False</td>\n",
              "      <td>The first 1,000 people to use this link will g...</td>\n",
              "      <td>F1Hq8eVOMHs_2021-12-01</td>\n",
              "      <td>728.0</td>\n",
              "      <td>True</td>\n",
              "      <td>True</td>\n",
              "    </tr>\n",
              "    <tr>\n",
              "      <th>3</th>\n",
              "      <td>GQXVQmcGQUY</td>\n",
              "      <td>Things Get Strange With The UnderTaker | Cold ...</td>\n",
              "      <td>2021-11-30 16:00:27+00:00</td>\n",
              "      <td>UCLRmIdRJgLfmdpJufmBhBuA</td>\n",
              "      <td>LOL Network</td>\n",
              "      <td>23</td>\n",
              "      <td>2021-12-01</td>\n",
              "      <td>kevin hart|hartbeat productions|funny|comedy|c...</td>\n",
              "      <td>https://i.ytimg.com/vi/GQXVQmcGQUY/default.jpg</td>\n",
              "      <td>False</td>\n",
              "      <td>False</td>\n",
              "      <td>#PoweredByOldSpice Thought by many as one of t...</td>\n",
              "      <td>GQXVQmcGQUY_2021-12-01</td>\n",
              "      <td>829.0</td>\n",
              "      <td>True</td>\n",
              "      <td>True</td>\n",
              "    </tr>\n",
              "    <tr>\n",
              "      <th>4</th>\n",
              "      <td>n4XojTb6pfs</td>\n",
              "      <td>People Pleasers at a Restaurant</td>\n",
              "      <td>2021-11-30 17:15:02+00:00</td>\n",
              "      <td>UCT_QEGH0myu6lgbE_biQPuw</td>\n",
              "      <td>Drew Talbert</td>\n",
              "      <td>23</td>\n",
              "      <td>2021-12-01</td>\n",
              "      <td>[None]</td>\n",
              "      <td>https://i.ytimg.com/vi/n4XojTb6pfs/default.jpg</td>\n",
              "      <td>False</td>\n",
              "      <td>False</td>\n",
              "      <td>I apologize for existing - please throw me out...</td>\n",
              "      <td>n4XojTb6pfs_2021-12-01</td>\n",
              "      <td>31.0</td>\n",
              "      <td>True</td>\n",
              "      <td>True</td>\n",
              "    </tr>\n",
              "  </tbody>\n",
              "</table>\n",
              "</div>\n",
              "      <button class=\"colab-df-convert\" onclick=\"convertToInteractive('df-205fdb5a-efcd-4d8a-9f0f-a0c7ca1cba9c')\"\n",
              "              title=\"Convert this dataframe to an interactive table.\"\n",
              "              style=\"display:none;\">\n",
              "        \n",
              "  <svg xmlns=\"http://www.w3.org/2000/svg\" height=\"24px\"viewBox=\"0 0 24 24\"\n",
              "       width=\"24px\">\n",
              "    <path d=\"M0 0h24v24H0V0z\" fill=\"none\"/>\n",
              "    <path d=\"M18.56 5.44l.94 2.06.94-2.06 2.06-.94-2.06-.94-.94-2.06-.94 2.06-2.06.94zm-11 1L8.5 8.5l.94-2.06 2.06-.94-2.06-.94L8.5 2.5l-.94 2.06-2.06.94zm10 10l.94 2.06.94-2.06 2.06-.94-2.06-.94-.94-2.06-.94 2.06-2.06.94z\"/><path d=\"M17.41 7.96l-1.37-1.37c-.4-.4-.92-.59-1.43-.59-.52 0-1.04.2-1.43.59L10.3 9.45l-7.72 7.72c-.78.78-.78 2.05 0 2.83L4 21.41c.39.39.9.59 1.41.59.51 0 1.02-.2 1.41-.59l7.78-7.78 2.81-2.81c.8-.78.8-2.07 0-2.86zM5.41 20L4 18.59l7.72-7.72 1.47 1.35L5.41 20z\"/>\n",
              "  </svg>\n",
              "      </button>\n",
              "      \n",
              "  <style>\n",
              "    .colab-df-container {\n",
              "      display:flex;\n",
              "      flex-wrap:wrap;\n",
              "      gap: 12px;\n",
              "    }\n",
              "\n",
              "    .colab-df-convert {\n",
              "      background-color: #E8F0FE;\n",
              "      border: none;\n",
              "      border-radius: 50%;\n",
              "      cursor: pointer;\n",
              "      display: none;\n",
              "      fill: #1967D2;\n",
              "      height: 32px;\n",
              "      padding: 0 0 0 0;\n",
              "      width: 32px;\n",
              "    }\n",
              "\n",
              "    .colab-df-convert:hover {\n",
              "      background-color: #E2EBFA;\n",
              "      box-shadow: 0px 1px 2px rgba(60, 64, 67, 0.3), 0px 1px 3px 1px rgba(60, 64, 67, 0.15);\n",
              "      fill: #174EA6;\n",
              "    }\n",
              "\n",
              "    [theme=dark] .colab-df-convert {\n",
              "      background-color: #3B4455;\n",
              "      fill: #D2E3FC;\n",
              "    }\n",
              "\n",
              "    [theme=dark] .colab-df-convert:hover {\n",
              "      background-color: #434B5C;\n",
              "      box-shadow: 0px 1px 3px 1px rgba(0, 0, 0, 0.15);\n",
              "      filter: drop-shadow(0px 1px 2px rgba(0, 0, 0, 0.3));\n",
              "      fill: #FFFFFF;\n",
              "    }\n",
              "  </style>\n",
              "\n",
              "      <script>\n",
              "        const buttonEl =\n",
              "          document.querySelector('#df-205fdb5a-efcd-4d8a-9f0f-a0c7ca1cba9c button.colab-df-convert');\n",
              "        buttonEl.style.display =\n",
              "          google.colab.kernel.accessAllowed ? 'block' : 'none';\n",
              "\n",
              "        async function convertToInteractive(key) {\n",
              "          const element = document.querySelector('#df-205fdb5a-efcd-4d8a-9f0f-a0c7ca1cba9c');\n",
              "          const dataTable =\n",
              "            await google.colab.kernel.invokeFunction('convertToInteractive',\n",
              "                                                     [key], {});\n",
              "          if (!dataTable) return;\n",
              "\n",
              "          const docLinkHtml = 'Like what you see? Visit the ' +\n",
              "            '<a target=\"_blank\" href=https://colab.research.google.com/notebooks/data_table.ipynb>data table notebook</a>'\n",
              "            + ' to learn more about interactive tables.';\n",
              "          element.innerHTML = '';\n",
              "          dataTable['output_type'] = 'display_data';\n",
              "          await google.colab.output.renderOutput(dataTable, element);\n",
              "          const docLink = document.createElement('div');\n",
              "          docLink.innerHTML = docLinkHtml;\n",
              "          element.appendChild(docLink);\n",
              "        }\n",
              "      </script>\n",
              "    </div>\n",
              "  </div>\n",
              "  "
            ],
            "text/plain": [
              "      video_id  ... isTest\n",
              "0  _wNsZEqpKUA  ...   True\n",
              "1  2jfbXZiE6Lc  ...   True\n",
              "2  F1Hq8eVOMHs  ...   True\n",
              "3  GQXVQmcGQUY  ...   True\n",
              "4  n4XojTb6pfs  ...   True\n",
              "\n",
              "[5 rows x 16 columns]"
            ]
          },
          "metadata": {},
          "execution_count": 501
        }
      ]
    },
    {
      "cell_type": "code",
      "source": [
        "data.shape"
      ],
      "metadata": {
        "colab": {
          "base_uri": "https://localhost:8080/"
        },
        "id": "h90Fs2Nu4_ue",
        "outputId": "4703fa88-1faf-4a8c-ab63-235c1df3efcb"
      },
      "execution_count": 502,
      "outputs": [
        {
          "output_type": "execute_result",
          "data": {
            "text/plain": [
              "(5800, 16)"
            ]
          },
          "metadata": {},
          "execution_count": 502
        }
      ]
    },
    {
      "cell_type": "code",
      "source": [
        "data.describe()"
      ],
      "metadata": {
        "colab": {
          "base_uri": "https://localhost:8080/",
          "height": 300
        },
        "id": "YIVLfho4Spoo",
        "outputId": "a709f7e1-276e-47d1-dc37-9bf20b47eb41"
      },
      "execution_count": 503,
      "outputs": [
        {
          "output_type": "execute_result",
          "data": {
            "text/html": [
              "\n",
              "  <div id=\"df-a2b3ed05-3a73-4abe-a607-c30e002c7968\">\n",
              "    <div class=\"colab-df-container\">\n",
              "      <div>\n",
              "<style scoped>\n",
              "    .dataframe tbody tr th:only-of-type {\n",
              "        vertical-align: middle;\n",
              "    }\n",
              "\n",
              "    .dataframe tbody tr th {\n",
              "        vertical-align: top;\n",
              "    }\n",
              "\n",
              "    .dataframe thead th {\n",
              "        text-align: right;\n",
              "    }\n",
              "</style>\n",
              "<table border=\"1\" class=\"dataframe\">\n",
              "  <thead>\n",
              "    <tr style=\"text-align: right;\">\n",
              "      <th></th>\n",
              "      <th>categoryId</th>\n",
              "      <th>duration_seconds</th>\n",
              "    </tr>\n",
              "  </thead>\n",
              "  <tbody>\n",
              "    <tr>\n",
              "      <th>count</th>\n",
              "      <td>5800.000000</td>\n",
              "      <td>5780.000000</td>\n",
              "    </tr>\n",
              "    <tr>\n",
              "      <th>mean</th>\n",
              "      <td>19.196897</td>\n",
              "      <td>641.144118</td>\n",
              "    </tr>\n",
              "    <tr>\n",
              "      <th>std</th>\n",
              "      <td>6.708874</td>\n",
              "      <td>732.952170</td>\n",
              "    </tr>\n",
              "    <tr>\n",
              "      <th>min</th>\n",
              "      <td>1.000000</td>\n",
              "      <td>10.000000</td>\n",
              "    </tr>\n",
              "    <tr>\n",
              "      <th>25%</th>\n",
              "      <td>17.000000</td>\n",
              "      <td>113.000000</td>\n",
              "    </tr>\n",
              "    <tr>\n",
              "      <th>50%</th>\n",
              "      <td>22.000000</td>\n",
              "      <td>443.500000</td>\n",
              "    </tr>\n",
              "    <tr>\n",
              "      <th>75%</th>\n",
              "      <td>24.000000</td>\n",
              "      <td>911.000000</td>\n",
              "    </tr>\n",
              "    <tr>\n",
              "      <th>max</th>\n",
              "      <td>28.000000</td>\n",
              "      <td>8250.000000</td>\n",
              "    </tr>\n",
              "  </tbody>\n",
              "</table>\n",
              "</div>\n",
              "      <button class=\"colab-df-convert\" onclick=\"convertToInteractive('df-a2b3ed05-3a73-4abe-a607-c30e002c7968')\"\n",
              "              title=\"Convert this dataframe to an interactive table.\"\n",
              "              style=\"display:none;\">\n",
              "        \n",
              "  <svg xmlns=\"http://www.w3.org/2000/svg\" height=\"24px\"viewBox=\"0 0 24 24\"\n",
              "       width=\"24px\">\n",
              "    <path d=\"M0 0h24v24H0V0z\" fill=\"none\"/>\n",
              "    <path d=\"M18.56 5.44l.94 2.06.94-2.06 2.06-.94-2.06-.94-.94-2.06-.94 2.06-2.06.94zm-11 1L8.5 8.5l.94-2.06 2.06-.94-2.06-.94L8.5 2.5l-.94 2.06-2.06.94zm10 10l.94 2.06.94-2.06 2.06-.94-2.06-.94-.94-2.06-.94 2.06-2.06.94z\"/><path d=\"M17.41 7.96l-1.37-1.37c-.4-.4-.92-.59-1.43-.59-.52 0-1.04.2-1.43.59L10.3 9.45l-7.72 7.72c-.78.78-.78 2.05 0 2.83L4 21.41c.39.39.9.59 1.41.59.51 0 1.02-.2 1.41-.59l7.78-7.78 2.81-2.81c.8-.78.8-2.07 0-2.86zM5.41 20L4 18.59l7.72-7.72 1.47 1.35L5.41 20z\"/>\n",
              "  </svg>\n",
              "      </button>\n",
              "      \n",
              "  <style>\n",
              "    .colab-df-container {\n",
              "      display:flex;\n",
              "      flex-wrap:wrap;\n",
              "      gap: 12px;\n",
              "    }\n",
              "\n",
              "    .colab-df-convert {\n",
              "      background-color: #E8F0FE;\n",
              "      border: none;\n",
              "      border-radius: 50%;\n",
              "      cursor: pointer;\n",
              "      display: none;\n",
              "      fill: #1967D2;\n",
              "      height: 32px;\n",
              "      padding: 0 0 0 0;\n",
              "      width: 32px;\n",
              "    }\n",
              "\n",
              "    .colab-df-convert:hover {\n",
              "      background-color: #E2EBFA;\n",
              "      box-shadow: 0px 1px 2px rgba(60, 64, 67, 0.3), 0px 1px 3px 1px rgba(60, 64, 67, 0.15);\n",
              "      fill: #174EA6;\n",
              "    }\n",
              "\n",
              "    [theme=dark] .colab-df-convert {\n",
              "      background-color: #3B4455;\n",
              "      fill: #D2E3FC;\n",
              "    }\n",
              "\n",
              "    [theme=dark] .colab-df-convert:hover {\n",
              "      background-color: #434B5C;\n",
              "      box-shadow: 0px 1px 3px 1px rgba(0, 0, 0, 0.15);\n",
              "      filter: drop-shadow(0px 1px 2px rgba(0, 0, 0, 0.3));\n",
              "      fill: #FFFFFF;\n",
              "    }\n",
              "  </style>\n",
              "\n",
              "      <script>\n",
              "        const buttonEl =\n",
              "          document.querySelector('#df-a2b3ed05-3a73-4abe-a607-c30e002c7968 button.colab-df-convert');\n",
              "        buttonEl.style.display =\n",
              "          google.colab.kernel.accessAllowed ? 'block' : 'none';\n",
              "\n",
              "        async function convertToInteractive(key) {\n",
              "          const element = document.querySelector('#df-a2b3ed05-3a73-4abe-a607-c30e002c7968');\n",
              "          const dataTable =\n",
              "            await google.colab.kernel.invokeFunction('convertToInteractive',\n",
              "                                                     [key], {});\n",
              "          if (!dataTable) return;\n",
              "\n",
              "          const docLinkHtml = 'Like what you see? Visit the ' +\n",
              "            '<a target=\"_blank\" href=https://colab.research.google.com/notebooks/data_table.ipynb>data table notebook</a>'\n",
              "            + ' to learn more about interactive tables.';\n",
              "          element.innerHTML = '';\n",
              "          dataTable['output_type'] = 'display_data';\n",
              "          await google.colab.output.renderOutput(dataTable, element);\n",
              "          const docLink = document.createElement('div');\n",
              "          docLink.innerHTML = docLinkHtml;\n",
              "          element.appendChild(docLink);\n",
              "        }\n",
              "      </script>\n",
              "    </div>\n",
              "  </div>\n",
              "  "
            ],
            "text/plain": [
              "        categoryId  duration_seconds\n",
              "count  5800.000000       5780.000000\n",
              "mean     19.196897        641.144118\n",
              "std       6.708874        732.952170\n",
              "min       1.000000         10.000000\n",
              "25%      17.000000        113.000000\n",
              "50%      22.000000        443.500000\n",
              "75%      24.000000        911.000000\n",
              "max      28.000000       8250.000000"
            ]
          },
          "metadata": {},
          "execution_count": 503
        }
      ]
    },
    {
      "cell_type": "code",
      "source": [
        "data.apply(lambda x: len(x.unique()))"
      ],
      "metadata": {
        "colab": {
          "base_uri": "https://localhost:8080/"
        },
        "id": "7Q5Af6p1TFwb",
        "outputId": "862f2e46-6648-441e-e521-33068d032412"
      },
      "execution_count": 504,
      "outputs": [
        {
          "output_type": "execute_result",
          "data": {
            "text/plain": [
              "video_id             1362\n",
              "title                1405\n",
              "publishedAt          1347\n",
              "channelId             922\n",
              "channelTitle          925\n",
              "categoryId             13\n",
              "trending_date          29\n",
              "tags                  976\n",
              "thumbnail_link       1362\n",
              "comments_disabled       2\n",
              "ratings_disabled        2\n",
              "description          1277\n",
              "id                   5800\n",
              "duration_seconds      787\n",
              "has_thumbnail           2\n",
              "isTest                  1\n",
              "dtype: int64"
            ]
          },
          "metadata": {},
          "execution_count": 504
        }
      ]
    },
    {
      "cell_type": "code",
      "source": [
        "data.nunique()"
      ],
      "metadata": {
        "colab": {
          "base_uri": "https://localhost:8080/"
        },
        "id": "eRXj06RVCb_9",
        "outputId": "6aabe50f-4847-4ca2-ff47-658dde06b272"
      },
      "execution_count": 576,
      "outputs": [
        {
          "output_type": "execute_result",
          "data": {
            "text/plain": [
              "video_id             1251\n",
              "title                1294\n",
              "publishedAt          1236\n",
              "channelId             852\n",
              "channelTitle          855\n",
              "categoryId             13\n",
              "trending_date          29\n",
              "tags                  961\n",
              "thumbnail_link       1251\n",
              "comments_disabled       2\n",
              "ratings_disabled        2\n",
              "description          1272\n",
              "id                   5375\n",
              "duration_seconds      779\n",
              "has_thumbnail           2\n",
              "isTest                  1\n",
              "dtype: int64"
            ]
          },
          "metadata": {},
          "execution_count": 576
        }
      ]
    },
    {
      "cell_type": "markdown",
      "source": [
        "**Data visualization**"
      ],
      "metadata": {
        "id": "TbtaAn-rsAsl"
      }
    },
    {
      "cell_type": "code",
      "source": [
        "for x in (['comments_disabled','ratings_disabled']):\n",
        "    count= data[x].value_counts()\n",
        "    print(count)\n",
        "    plt.figure(figsize=(7,7))\n",
        "    sns.barplot(count.index, count.values, alpha=0.8)\n",
        "    plt.title('{} vs No of video'.format(x))\n",
        "    plt.ylabel('No of video')\n",
        "    plt.xlabel('{}'.format(x))\n",
        "    plt.show()"
      ],
      "metadata": {
        "colab": {
          "base_uri": "https://localhost:8080/",
          "height": 1000
        },
        "id": "7bShCoPJTRXE",
        "outputId": "0581eef3-3c6b-4816-f650-7d42bd0608ca"
      },
      "execution_count": 505,
      "outputs": [
        {
          "output_type": "stream",
          "name": "stdout",
          "text": [
            "False    5760\n",
            "True       40\n",
            "Name: comments_disabled, dtype: int64\n"
          ]
        },
        {
          "output_type": "stream",
          "name": "stderr",
          "text": [
            "/usr/local/lib/python3.7/dist-packages/seaborn/_decorators.py:43: FutureWarning: Pass the following variables as keyword args: x, y. From version 0.12, the only valid positional argument will be `data`, and passing other arguments without an explicit keyword will result in an error or misinterpretation.\n",
            "  FutureWarning\n"
          ]
        },
        {
          "output_type": "display_data",
          "data": {
            "image/png": "[encoded data removed]",
            "text/plain": [
              "<Figure size 504x504 with 1 Axes>"
            ]
          },
          "metadata": {
            "needs_background": "light"
          }
        },
        {
          "output_type": "stream",
          "name": "stdout",
          "text": [
            "False    5582\n",
            "True      218\n",
            "Name: ratings_disabled, dtype: int64\n"
          ]
        },
        {
          "output_type": "stream",
          "name": "stderr",
          "text": [
            "/usr/local/lib/python3.7/dist-packages/seaborn/_decorators.py:43: FutureWarning: Pass the following variables as keyword args: x, y. From version 0.12, the only valid positional argument will be `data`, and passing other arguments without an explicit keyword will result in an error or misinterpretation.\n",
            "  FutureWarning\n"
          ]
        },
        {
          "output_type": "display_data",
          "data": {
            "image/png": "[encoded data removed]",
            "text/plain": [
              "<Figure size 504x504 with 1 Axes>"
            ]
          },
          "metadata": {
            "needs_background": "light"
          }
        }
      ]
    },
    {
      "cell_type": "code",
      "source": [
        "sns.countplot('categoryId',data=data)"
      ],
      "metadata": {
        "colab": {
          "base_uri": "https://localhost:8080/",
          "height": 351
        },
        "id": "i1tkIUkUUgeo",
        "outputId": "2099ea8a-15cd-43e5-cada-7d9429091f79"
      },
      "execution_count": 506,
      "outputs": [
        {
          "output_type": "stream",
          "name": "stderr",
          "text": [
            "/usr/local/lib/python3.7/dist-packages/seaborn/_decorators.py:43: FutureWarning: Pass the following variable as a keyword arg: x. From version 0.12, the only valid positional argument will be `data`, and passing other arguments without an explicit keyword will result in an error or misinterpretation.\n",
            "  FutureWarning\n"
          ]
        },
        {
          "output_type": "execute_result",
          "data": {
            "text/plain": [
              "<matplotlib.axes._subplots.AxesSubplot at 0x7f54ea3f5290>"
            ]
          },
          "metadata": {},
          "execution_count": 506
        },
        {
          "output_type": "display_data",
          "data": {
            "image/png": "[encoded data removed]",
            "text/plain": [
              "<Figure size 432x288 with 1 Axes>"
            ]
          },
          "metadata": {
            "needs_background": "light"
          }
        }
      ]
    },
    {
      "cell_type": "markdown",
      "source": [
        "**Correlation Matrix**"
      ],
      "metadata": {
        "id": "1r3PMN_EsMD_"
      }
    },
    {
      "cell_type": "code",
      "source": [
        "data_correlation = data.corr()\n",
        "data_correlation"
      ],
      "metadata": {
        "colab": {
          "base_uri": "https://localhost:8080/",
          "height": 238
        },
        "id": "WTGyyNJ2Vlto",
        "outputId": "0758fac7-3696-449e-e442-4e7f13c63fcc"
      },
      "execution_count": 507,
      "outputs": [
        {
          "output_type": "execute_result",
          "data": {
            "text/html": [
              "\n",
              "  <div id=\"df-cbcfa7e6-ad43-433e-8022-260ce06c1136\">\n",
              "    <div class=\"colab-df-container\">\n",
              "      <div>\n",
              "<style scoped>\n",
              "    .dataframe tbody tr th:only-of-type {\n",
              "        vertical-align: middle;\n",
              "    }\n",
              "\n",
              "    .dataframe tbody tr th {\n",
              "        vertical-align: top;\n",
              "    }\n",
              "\n",
              "    .dataframe thead th {\n",
              "        text-align: right;\n",
              "    }\n",
              "</style>\n",
              "<table border=\"1\" class=\"dataframe\">\n",
              "  <thead>\n",
              "    <tr style=\"text-align: right;\">\n",
              "      <th></th>\n",
              "      <th>categoryId</th>\n",
              "      <th>comments_disabled</th>\n",
              "      <th>ratings_disabled</th>\n",
              "      <th>duration_seconds</th>\n",
              "      <th>has_thumbnail</th>\n",
              "      <th>isTest</th>\n",
              "    </tr>\n",
              "  </thead>\n",
              "  <tbody>\n",
              "    <tr>\n",
              "      <th>categoryId</th>\n",
              "      <td>1.000000</td>\n",
              "      <td>0.014324</td>\n",
              "      <td>0.004199</td>\n",
              "      <td>0.081054</td>\n",
              "      <td>-0.022636</td>\n",
              "      <td>NaN</td>\n",
              "    </tr>\n",
              "    <tr>\n",
              "      <th>comments_disabled</th>\n",
              "      <td>0.014324</td>\n",
              "      <td>1.000000</td>\n",
              "      <td>0.147838</td>\n",
              "      <td>0.100472</td>\n",
              "      <td>0.000428</td>\n",
              "      <td>NaN</td>\n",
              "    </tr>\n",
              "    <tr>\n",
              "      <th>ratings_disabled</th>\n",
              "      <td>0.004199</td>\n",
              "      <td>0.147838</td>\n",
              "      <td>1.000000</td>\n",
              "      <td>-0.020053</td>\n",
              "      <td>0.018422</td>\n",
              "      <td>NaN</td>\n",
              "    </tr>\n",
              "    <tr>\n",
              "      <th>duration_seconds</th>\n",
              "      <td>0.081054</td>\n",
              "      <td>0.100472</td>\n",
              "      <td>-0.020053</td>\n",
              "      <td>1.000000</td>\n",
              "      <td>0.043432</td>\n",
              "      <td>NaN</td>\n",
              "    </tr>\n",
              "    <tr>\n",
              "      <th>has_thumbnail</th>\n",
              "      <td>-0.022636</td>\n",
              "      <td>0.000428</td>\n",
              "      <td>0.018422</td>\n",
              "      <td>0.043432</td>\n",
              "      <td>1.000000</td>\n",
              "      <td>NaN</td>\n",
              "    </tr>\n",
              "    <tr>\n",
              "      <th>isTest</th>\n",
              "      <td>NaN</td>\n",
              "      <td>NaN</td>\n",
              "      <td>NaN</td>\n",
              "      <td>NaN</td>\n",
              "      <td>NaN</td>\n",
              "      <td>NaN</td>\n",
              "    </tr>\n",
              "  </tbody>\n",
              "</table>\n",
              "</div>\n",
              "      <button class=\"colab-df-convert\" onclick=\"convertToInteractive('df-cbcfa7e6-ad43-433e-8022-260ce06c1136')\"\n",
              "              title=\"Convert this dataframe to an interactive table.\"\n",
              "              style=\"display:none;\">\n",
              "        \n",
              "  <svg xmlns=\"http://www.w3.org/2000/svg\" height=\"24px\"viewBox=\"0 0 24 24\"\n",
              "       width=\"24px\">\n",
              "    <path d=\"M0 0h24v24H0V0z\" fill=\"none\"/>\n",
              "    <path d=\"M18.56 5.44l.94 2.06.94-2.06 2.06-.94-2.06-.94-.94-2.06-.94 2.06-2.06.94zm-11 1L8.5 8.5l.94-2.06 2.06-.94-2.06-.94L8.5 2.5l-.94 2.06-2.06.94zm10 10l.94 2.06.94-2.06 2.06-.94-2.06-.94-.94-2.06-.94 2.06-2.06.94z\"/><path d=\"M17.41 7.96l-1.37-1.37c-.4-.4-.92-.59-1.43-.59-.52 0-1.04.2-1.43.59L10.3 9.45l-7.72 7.72c-.78.78-.78 2.05 0 2.83L4 21.41c.39.39.9.59 1.41.59.51 0 1.02-.2 1.41-.59l7.78-7.78 2.81-2.81c.8-.78.8-2.07 0-2.86zM5.41 20L4 18.59l7.72-7.72 1.47 1.35L5.41 20z\"/>\n",
              "  </svg>\n",
              "      </button>\n",
              "      \n",
              "  <style>\n",
              "    .colab-df-container {\n",
              "      display:flex;\n",
              "      flex-wrap:wrap;\n",
              "      gap: 12px;\n",
              "    }\n",
              "\n",
              "    .colab-df-convert {\n",
              "      background-color: #E8F0FE;\n",
              "      border: none;\n",
              "      border-radius: 50%;\n",
              "      cursor: pointer;\n",
              "      display: none;\n",
              "      fill: #1967D2;\n",
              "      height: 32px;\n",
              "      padding: 0 0 0 0;\n",
              "      width: 32px;\n",
              "    }\n",
              "\n",
              "    .colab-df-convert:hover {\n",
              "      background-color: #E2EBFA;\n",
              "      box-shadow: 0px 1px 2px rgba(60, 64, 67, 0.3), 0px 1px 3px 1px rgba(60, 64, 67, 0.15);\n",
              "      fill: #174EA6;\n",
              "    }\n",
              "\n",
              "    [theme=dark] .colab-df-convert {\n",
              "      background-color: #3B4455;\n",
              "      fill: #D2E3FC;\n",
              "    }\n",
              "\n",
              "    [theme=dark] .colab-df-convert:hover {\n",
              "      background-color: #434B5C;\n",
              "      box-shadow: 0px 1px 3px 1px rgba(0, 0, 0, 0.15);\n",
              "      filter: drop-shadow(0px 1px 2px rgba(0, 0, 0, 0.3));\n",
              "      fill: #FFFFFF;\n",
              "    }\n",
              "  </style>\n",
              "\n",
              "      <script>\n",
              "        const buttonEl =\n",
              "          document.querySelector('#df-cbcfa7e6-ad43-433e-8022-260ce06c1136 button.colab-df-convert');\n",
              "        buttonEl.style.display =\n",
              "          google.colab.kernel.accessAllowed ? 'block' : 'none';\n",
              "\n",
              "        async function convertToInteractive(key) {\n",
              "          const element = document.querySelector('#df-cbcfa7e6-ad43-433e-8022-260ce06c1136');\n",
              "          const dataTable =\n",
              "            await google.colab.kernel.invokeFunction('convertToInteractive',\n",
              "                                                     [key], {});\n",
              "          if (!dataTable) return;\n",
              "\n",
              "          const docLinkHtml = 'Like what you see? Visit the ' +\n",
              "            '<a target=\"_blank\" href=https://colab.research.google.com/notebooks/data_table.ipynb>data table notebook</a>'\n",
              "            + ' to learn more about interactive tables.';\n",
              "          element.innerHTML = '';\n",
              "          dataTable['output_type'] = 'display_data';\n",
              "          await google.colab.output.renderOutput(dataTable, element);\n",
              "          const docLink = document.createElement('div');\n",
              "          docLink.innerHTML = docLinkHtml;\n",
              "          element.appendChild(docLink);\n",
              "        }\n",
              "      </script>\n",
              "    </div>\n",
              "  </div>\n",
              "  "
            ],
            "text/plain": [
              "                   categoryId  comments_disabled  ...  has_thumbnail  isTest\n",
              "categoryId           1.000000           0.014324  ...      -0.022636     NaN\n",
              "comments_disabled    0.014324           1.000000  ...       0.000428     NaN\n",
              "ratings_disabled     0.004199           0.147838  ...       0.018422     NaN\n",
              "duration_seconds     0.081054           0.100472  ...       0.043432     NaN\n",
              "has_thumbnail       -0.022636           0.000428  ...       1.000000     NaN\n",
              "isTest                    NaN                NaN  ...            NaN     NaN\n",
              "\n",
              "[6 rows x 6 columns]"
            ]
          },
          "metadata": {},
          "execution_count": 507
        }
      ]
    },
    {
      "cell_type": "code",
      "source": [
        "plt.figure(figsize = (10,8))\n",
        "sns.heatmap(data_correlation, annot=True)"
      ],
      "metadata": {
        "colab": {
          "base_uri": "https://localhost:8080/",
          "height": 593
        },
        "id": "QUyHVHV0Wn_5",
        "outputId": "d5c36cc9-6704-426e-e806-c4145e01faa0"
      },
      "execution_count": 508,
      "outputs": [
        {
          "output_type": "execute_result",
          "data": {
            "text/plain": [
              "<matplotlib.axes._subplots.AxesSubplot at 0x7f54ea373550>"
            ]
          },
          "metadata": {},
          "execution_count": 508
        },
        {
          "output_type": "display_data",
          "data": {
            "image/png": "[encoded data removed]",
            "text/plain": [
              "<Figure size 720x576 with 2 Axes>"
            ]
          },
          "metadata": {
            "needs_background": "light"
          }
        }
      ]
    },
    {
      "cell_type": "markdown",
      "source": [
        "**checking missing values**"
      ],
      "metadata": {
        "id": "P_6uctCGuL9g"
      }
    },
    {
      "cell_type": "code",
      "source": [
        "missing_value = data.isna().sum()\n",
        "missing_value"
      ],
      "metadata": {
        "colab": {
          "base_uri": "https://localhost:8080/"
        },
        "id": "nfcDWYeGP9mw",
        "outputId": "f687e5d2-5cbd-4ca6-c7c6-680e9772d37d"
      },
      "execution_count": 509,
      "outputs": [
        {
          "output_type": "execute_result",
          "data": {
            "text/plain": [
              "video_id               0\n",
              "title                  0\n",
              "publishedAt            0\n",
              "channelId              0\n",
              "channelTitle           0\n",
              "categoryId             0\n",
              "trending_date          0\n",
              "tags                   0\n",
              "thumbnail_link         0\n",
              "comments_disabled      0\n",
              "ratings_disabled       0\n",
              "description          409\n",
              "id                     0\n",
              "duration_seconds      20\n",
              "has_thumbnail          0\n",
              "isTest                 0\n",
              "dtype: int64"
            ]
          },
          "metadata": {},
          "execution_count": 509
        }
      ]
    },
    {
      "cell_type": "code",
      "source": [
        "data = data.dropna()"
      ],
      "metadata": {
        "id": "joUmOwRqPPxu"
      },
      "execution_count": 510,
      "outputs": []
    },
    {
      "cell_type": "code",
      "source": [
        "missing_value = data.isna().sum()\n",
        "missing_value"
      ],
      "metadata": {
        "colab": {
          "base_uri": "https://localhost:8080/"
        },
        "id": "1DbrAGTbyb8H",
        "outputId": "93a935df-0b34-4912-c5fd-a5694dca23c3"
      },
      "execution_count": 511,
      "outputs": [
        {
          "output_type": "execute_result",
          "data": {
            "text/plain": [
              "video_id             0\n",
              "title                0\n",
              "publishedAt          0\n",
              "channelId            0\n",
              "channelTitle         0\n",
              "categoryId           0\n",
              "trending_date        0\n",
              "tags                 0\n",
              "thumbnail_link       0\n",
              "comments_disabled    0\n",
              "ratings_disabled     0\n",
              "description          0\n",
              "id                   0\n",
              "duration_seconds     0\n",
              "has_thumbnail        0\n",
              "isTest               0\n",
              "dtype: int64"
            ]
          },
          "metadata": {},
          "execution_count": 511
        }
      ]
    },
    {
      "cell_type": "markdown",
      "source": [
        "**Reading data**"
      ],
      "metadata": {
        "id": "ItYGu_40uUwd"
      }
    },
    {
      "cell_type": "code",
      "source": [
        "from pandas.io.parquet import read_parquet\n",
        "train_data = pd.read_parquet('/content/train.parquet')\n",
        "train_data.head()"
      ],
      "metadata": {
        "colab": {
          "base_uri": "https://localhost:8080/",
          "height": 531
        },
        "id": "9-GFOuRq1iiG",
        "outputId": "65825e21-4bb5-4a47-9619-6a1474f49f52"
      },
      "execution_count": 512,
      "outputs": [
        {
          "output_type": "execute_result",
          "data": {
            "text/html": [
              "\n",
              "  <div id=\"df-b4caaca7-a6c5-477e-a0e7-ff373b343704\">\n",
              "    <div class=\"colab-df-container\">\n",
              "      <div>\n",
              "<style scoped>\n",
              "    .dataframe tbody tr th:only-of-type {\n",
              "        vertical-align: middle;\n",
              "    }\n",
              "\n",
              "    .dataframe tbody tr th {\n",
              "        vertical-align: top;\n",
              "    }\n",
              "\n",
              "    .dataframe thead th {\n",
              "        text-align: right;\n",
              "    }\n",
              "</style>\n",
              "<table border=\"1\" class=\"dataframe\">\n",
              "  <thead>\n",
              "    <tr style=\"text-align: right;\">\n",
              "      <th></th>\n",
              "      <th>video_id</th>\n",
              "      <th>title</th>\n",
              "      <th>publishedAt</th>\n",
              "      <th>channelId</th>\n",
              "      <th>channelTitle</th>\n",
              "      <th>categoryId</th>\n",
              "      <th>trending_date</th>\n",
              "      <th>tags</th>\n",
              "      <th>view_count</th>\n",
              "      <th>likes</th>\n",
              "      <th>dislikes</th>\n",
              "      <th>comment_count</th>\n",
              "      <th>thumbnail_link</th>\n",
              "      <th>comments_disabled</th>\n",
              "      <th>ratings_disabled</th>\n",
              "      <th>description</th>\n",
              "      <th>id</th>\n",
              "      <th>duration_seconds</th>\n",
              "      <th>has_thumbnail</th>\n",
              "      <th>target</th>\n",
              "    </tr>\n",
              "  </thead>\n",
              "  <tbody>\n",
              "    <tr>\n",
              "      <th>0</th>\n",
              "      <td>3C66w5Z0ixs</td>\n",
              "      <td>I ASKED HER TO BE MY GIRLFRIEND...</td>\n",
              "      <td>2020-08-11 19:20:14+00:00</td>\n",
              "      <td>UCvtRTOMP2TqYqu51xNrqAzg</td>\n",
              "      <td>Brawadis</td>\n",
              "      <td>22</td>\n",
              "      <td>2020-08-12</td>\n",
              "      <td>brawadis|prank|basketball|skits|ghost|funny vi...</td>\n",
              "      <td>1514614</td>\n",
              "      <td>156908</td>\n",
              "      <td>5855</td>\n",
              "      <td>35313</td>\n",
              "      <td>https://i.ytimg.com/vi/3C66w5Z0ixs/default.jpg</td>\n",
              "      <td>False</td>\n",
              "      <td>False</td>\n",
              "      <td>SUBSCRIBE to BRAWADIS ▶ http://bit.ly/Subscrib...</td>\n",
              "      <td>3C66w5Z0ixs_2020-08-12</td>\n",
              "      <td>NaN</td>\n",
              "      <td>True</td>\n",
              "      <td>0.103596</td>\n",
              "    </tr>\n",
              "    <tr>\n",
              "      <th>1</th>\n",
              "      <td>M9Pmf9AB4Mo</td>\n",
              "      <td>Apex Legends | Stories from the Outlands – “Th...</td>\n",
              "      <td>2020-08-11 17:00:10+00:00</td>\n",
              "      <td>UC0ZV6M2THA81QT9hrVWJG3A</td>\n",
              "      <td>Apex Legends</td>\n",
              "      <td>20</td>\n",
              "      <td>2020-08-12</td>\n",
              "      <td>Apex Legends|Apex Legends characters|new Apex ...</td>\n",
              "      <td>2381688</td>\n",
              "      <td>146739</td>\n",
              "      <td>2794</td>\n",
              "      <td>16549</td>\n",
              "      <td>https://i.ytimg.com/vi/M9Pmf9AB4Mo/default.jpg</td>\n",
              "      <td>False</td>\n",
              "      <td>False</td>\n",
              "      <td>While running her own modding shop, Ramya Pare...</td>\n",
              "      <td>M9Pmf9AB4Mo_2020-08-12</td>\n",
              "      <td>NaN</td>\n",
              "      <td>True</td>\n",
              "      <td>0.061611</td>\n",
              "    </tr>\n",
              "    <tr>\n",
              "      <th>2</th>\n",
              "      <td>J78aPJ3VyNs</td>\n",
              "      <td>I left youtube for a month and THIS is what ha...</td>\n",
              "      <td>2020-08-11 16:34:06+00:00</td>\n",
              "      <td>UCYzPXprvl5Y-Sf0g4vX-m6g</td>\n",
              "      <td>jacksepticeye</td>\n",
              "      <td>24</td>\n",
              "      <td>2020-08-12</td>\n",
              "      <td>jacksepticeye|funny|funny meme|memes|jacksepti...</td>\n",
              "      <td>2038853</td>\n",
              "      <td>353787</td>\n",
              "      <td>2628</td>\n",
              "      <td>40221</td>\n",
              "      <td>https://i.ytimg.com/vi/J78aPJ3VyNs/default.jpg</td>\n",
              "      <td>False</td>\n",
              "      <td>False</td>\n",
              "      <td>I left youtube for a month and this is what ha...</td>\n",
              "      <td>J78aPJ3VyNs_2020-08-12</td>\n",
              "      <td>NaN</td>\n",
              "      <td>True</td>\n",
              "      <td>0.173523</td>\n",
              "    </tr>\n",
              "    <tr>\n",
              "      <th>3</th>\n",
              "      <td>kXLn3HkpjaA</td>\n",
              "      <td>XXL 2020 Freshman Class Revealed - Official An...</td>\n",
              "      <td>2020-08-11 16:38:55+00:00</td>\n",
              "      <td>UCbg_UMjlHJg_19SZckaKajg</td>\n",
              "      <td>XXL</td>\n",
              "      <td>10</td>\n",
              "      <td>2020-08-12</td>\n",
              "      <td>xxl freshman|xxl freshmen|2020 xxl freshman|20...</td>\n",
              "      <td>496771</td>\n",
              "      <td>23251</td>\n",
              "      <td>1856</td>\n",
              "      <td>7647</td>\n",
              "      <td>https://i.ytimg.com/vi/kXLn3HkpjaA/default.jpg</td>\n",
              "      <td>False</td>\n",
              "      <td>False</td>\n",
              "      <td>Subscribe to XXL → http://bit.ly/subscribe-xxl...</td>\n",
              "      <td>kXLn3HkpjaA_2020-08-12</td>\n",
              "      <td>NaN</td>\n",
              "      <td>True</td>\n",
              "      <td>0.046804</td>\n",
              "    </tr>\n",
              "    <tr>\n",
              "      <th>4</th>\n",
              "      <td>VIUo6yapDbc</td>\n",
              "      <td>Ultimate DIY Home Movie Theater for The LaBran...</td>\n",
              "      <td>2020-08-11 15:10:05+00:00</td>\n",
              "      <td>UCDVPcEbVLQgLZX0Rt6jo34A</td>\n",
              "      <td>Mr. Kate</td>\n",
              "      <td>26</td>\n",
              "      <td>2020-08-12</td>\n",
              "      <td>The LaBrant Family|DIY|Interior Design|Makeove...</td>\n",
              "      <td>1123889</td>\n",
              "      <td>45802</td>\n",
              "      <td>964</td>\n",
              "      <td>2196</td>\n",
              "      <td>https://i.ytimg.com/vi/VIUo6yapDbc/default.jpg</td>\n",
              "      <td>False</td>\n",
              "      <td>False</td>\n",
              "      <td>Transforming The LaBrant Family's empty white ...</td>\n",
              "      <td>VIUo6yapDbc_2020-08-12</td>\n",
              "      <td>NaN</td>\n",
              "      <td>True</td>\n",
              "      <td>0.040753</td>\n",
              "    </tr>\n",
              "  </tbody>\n",
              "</table>\n",
              "</div>\n",
              "      <button class=\"colab-df-convert\" onclick=\"convertToInteractive('df-b4caaca7-a6c5-477e-a0e7-ff373b343704')\"\n",
              "              title=\"Convert this dataframe to an interactive table.\"\n",
              "              style=\"display:none;\">\n",
              "        \n",
              "  <svg xmlns=\"http://www.w3.org/2000/svg\" height=\"24px\"viewBox=\"0 0 24 24\"\n",
              "       width=\"24px\">\n",
              "    <path d=\"M0 0h24v24H0V0z\" fill=\"none\"/>\n",
              "    <path d=\"M18.56 5.44l.94 2.06.94-2.06 2.06-.94-2.06-.94-.94-2.06-.94 2.06-2.06.94zm-11 1L8.5 8.5l.94-2.06 2.06-.94-2.06-.94L8.5 2.5l-.94 2.06-2.06.94zm10 10l.94 2.06.94-2.06 2.06-.94-2.06-.94-.94-2.06-.94 2.06-2.06.94z\"/><path d=\"M17.41 7.96l-1.37-1.37c-.4-.4-.92-.59-1.43-.59-.52 0-1.04.2-1.43.59L10.3 9.45l-7.72 7.72c-.78.78-.78 2.05 0 2.83L4 21.41c.39.39.9.59 1.41.59.51 0 1.02-.2 1.41-.59l7.78-7.78 2.81-2.81c.8-.78.8-2.07 0-2.86zM5.41 20L4 18.59l7.72-7.72 1.47 1.35L5.41 20z\"/>\n",
              "  </svg>\n",
              "      </button>\n",
              "      \n",
              "  <style>\n",
              "    .colab-df-container {\n",
              "      display:flex;\n",
              "      flex-wrap:wrap;\n",
              "      gap: 12px;\n",
              "    }\n",
              "\n",
              "    .colab-df-convert {\n",
              "      background-color: #E8F0FE;\n",
              "      border: none;\n",
              "      border-radius: 50%;\n",
              "      cursor: pointer;\n",
              "      display: none;\n",
              "      fill: #1967D2;\n",
              "      height: 32px;\n",
              "      padding: 0 0 0 0;\n",
              "      width: 32px;\n",
              "    }\n",
              "\n",
              "    .colab-df-convert:hover {\n",
              "      background-color: #E2EBFA;\n",
              "      box-shadow: 0px 1px 2px rgba(60, 64, 67, 0.3), 0px 1px 3px 1px rgba(60, 64, 67, 0.15);\n",
              "      fill: #174EA6;\n",
              "    }\n",
              "\n",
              "    [theme=dark] .colab-df-convert {\n",
              "      background-color: #3B4455;\n",
              "      fill: #D2E3FC;\n",
              "    }\n",
              "\n",
              "    [theme=dark] .colab-df-convert:hover {\n",
              "      background-color: #434B5C;\n",
              "      box-shadow: 0px 1px 3px 1px rgba(0, 0, 0, 0.15);\n",
              "      filter: drop-shadow(0px 1px 2px rgba(0, 0, 0, 0.3));\n",
              "      fill: #FFFFFF;\n",
              "    }\n",
              "  </style>\n",
              "\n",
              "      <script>\n",
              "        const buttonEl =\n",
              "          document.querySelector('#df-b4caaca7-a6c5-477e-a0e7-ff373b343704 button.colab-df-convert');\n",
              "        buttonEl.style.display =\n",
              "          google.colab.kernel.accessAllowed ? 'block' : 'none';\n",
              "\n",
              "        async function convertToInteractive(key) {\n",
              "          const element = document.querySelector('#df-b4caaca7-a6c5-477e-a0e7-ff373b343704');\n",
              "          const dataTable =\n",
              "            await google.colab.kernel.invokeFunction('convertToInteractive',\n",
              "                                                     [key], {});\n",
              "          if (!dataTable) return;\n",
              "\n",
              "          const docLinkHtml = 'Like what you see? Visit the ' +\n",
              "            '<a target=\"_blank\" href=https://colab.research.google.com/notebooks/data_table.ipynb>data table notebook</a>'\n",
              "            + ' to learn more about interactive tables.';\n",
              "          element.innerHTML = '';\n",
              "          dataTable['output_type'] = 'display_data';\n",
              "          await google.colab.output.renderOutput(dataTable, element);\n",
              "          const docLink = document.createElement('div');\n",
              "          docLink.innerHTML = docLinkHtml;\n",
              "          element.appendChild(docLink);\n",
              "        }\n",
              "      </script>\n",
              "    </div>\n",
              "  </div>\n",
              "  "
            ],
            "text/plain": [
              "      video_id  ...    target\n",
              "0  3C66w5Z0ixs  ...  0.103596\n",
              "1  M9Pmf9AB4Mo  ...  0.061611\n",
              "2  J78aPJ3VyNs  ...  0.173523\n",
              "3  kXLn3HkpjaA  ...  0.046804\n",
              "4  VIUo6yapDbc  ...  0.040753\n",
              "\n",
              "[5 rows x 20 columns]"
            ]
          },
          "metadata": {},
          "execution_count": 512
        }
      ]
    },
    {
      "cell_type": "markdown",
      "source": [
        "**Label Encoding (changing categorical values into numerical values)**"
      ],
      "metadata": {
        "id": "iJKpgDMkttDY"
      }
    },
    {
      "cell_type": "code",
      "source": [
        "from sklearn import preprocessing\n",
        "label_encoder = preprocessing.LabelEncoder()\n",
        "label_encoder.fit(data['video_id'])\n",
        "data['video_id'] = label_encoder.transform(data['video_id'])"
      ],
      "metadata": {
        "id": "me52Qo_V6OKr"
      },
      "execution_count": 513,
      "outputs": []
    },
    {
      "cell_type": "code",
      "source": [
        "from sklearn import preprocessing\n",
        "label_encoder = preprocessing.LabelEncoder()\n",
        "label_encoder.fit(data['title'])\n",
        "data['title'] = label_encoder.transform(data['title'])"
      ],
      "metadata": {
        "id": "FNLf8ZS56fPr"
      },
      "execution_count": 514,
      "outputs": []
    },
    {
      "cell_type": "code",
      "source": [
        "from sklearn import preprocessing\n",
        "label_encoder = preprocessing.LabelEncoder()\n",
        "label_encoder.fit(data['publishedAt'])\n",
        "data['publishedAt'] = label_encoder.transform(data['publishedAt'])"
      ],
      "metadata": {
        "id": "CA2_LRRX6ryH"
      },
      "execution_count": 515,
      "outputs": []
    },
    {
      "cell_type": "code",
      "source": [
        "from sklearn import preprocessing\n",
        "label_encoder = preprocessing.LabelEncoder()\n",
        "label_encoder.fit(data['channelId'])\n",
        "data['channelId'] = label_encoder.transform(data['channelId'])"
      ],
      "metadata": {
        "id": "aGrzeHlu677I"
      },
      "execution_count": 516,
      "outputs": []
    },
    {
      "cell_type": "code",
      "source": [
        "from sklearn import preprocessing\n",
        "label_encoder = preprocessing.LabelEncoder()\n",
        "label_encoder.fit(data['channelTitle'])\n",
        "data['channelTitle'] = label_encoder.transform(data['channelTitle'])"
      ],
      "metadata": {
        "id": "A3APLtJc7HRR"
      },
      "execution_count": 517,
      "outputs": []
    },
    {
      "cell_type": "code",
      "source": [
        "from sklearn import preprocessing\n",
        "label_encoder = preprocessing.LabelEncoder()\n",
        "label_encoder.fit(data['tags'])\n",
        "data['tags'] = label_encoder.transform(data['tags'])"
      ],
      "metadata": {
        "id": "fbzxyQnW7Rgy"
      },
      "execution_count": 518,
      "outputs": []
    },
    {
      "cell_type": "code",
      "source": [
        "from sklearn import preprocessing\n",
        "label_encoder = preprocessing.LabelEncoder()\n",
        "label_encoder.fit(data['thumbnail_link'])\n",
        "data['thumbnail_link'] = label_encoder.transform(data['thumbnail_link'])"
      ],
      "metadata": {
        "id": "g_LUJE5T7kYc"
      },
      "execution_count": 519,
      "outputs": []
    },
    {
      "cell_type": "code",
      "source": [
        "from sklearn import preprocessing\n",
        "label_encoder = preprocessing.LabelEncoder()\n",
        "label_encoder.fit(data['comments_disabled'])\n",
        "data['comments_disabled'] = label_encoder.transform(data['comments_disabled'])"
      ],
      "metadata": {
        "id": "ZmAtglff7wZ2"
      },
      "execution_count": 520,
      "outputs": []
    },
    {
      "cell_type": "code",
      "source": [
        "from sklearn import preprocessing\n",
        "label_encoder = preprocessing.LabelEncoder()\n",
        "label_encoder.fit(data['ratings_disabled'])\n",
        "data['ratings_disabled'] = label_encoder.transform(data['ratings_disabled'])"
      ],
      "metadata": {
        "id": "6KoyAO1779UR"
      },
      "execution_count": 521,
      "outputs": []
    },
    {
      "cell_type": "code",
      "source": [
        "from sklearn import preprocessing\n",
        "label_encoder = preprocessing.LabelEncoder()\n",
        "label_encoder.fit(data['description'])\n",
        "data['description'] = label_encoder.transform(data['description'])"
      ],
      "metadata": {
        "id": "F_Pvqc1x8RWR"
      },
      "execution_count": 522,
      "outputs": []
    },
    {
      "cell_type": "code",
      "source": [
        "from sklearn import preprocessing\n",
        "label_encoder = preprocessing.LabelEncoder()\n",
        "label_encoder.fit(data['id'])\n",
        "data['id'] = label_encoder.transform(data['id'])"
      ],
      "metadata": {
        "id": "p4xtjJ4I8fp2"
      },
      "execution_count": 523,
      "outputs": []
    },
    {
      "cell_type": "code",
      "source": [
        "from sklearn import preprocessing\n",
        "label_encoder = preprocessing.LabelEncoder()\n",
        "label_encoder.fit(data['duration_seconds'])\n",
        "data['duration_seconds'] = label_encoder.transform(data['duration_seconds'])"
      ],
      "metadata": {
        "id": "d27Xe6X18wKV"
      },
      "execution_count": 524,
      "outputs": []
    },
    {
      "cell_type": "code",
      "source": [
        "from sklearn import preprocessing\n",
        "label_encoder = preprocessing.LabelEncoder()\n",
        "label_encoder.fit(data['has_thumbnail'])\n",
        "data['has_thumbnail'] = label_encoder.transform(data['has_thumbnail'])"
      ],
      "metadata": {
        "id": "JmyztIQq8-_n"
      },
      "execution_count": 525,
      "outputs": []
    },
    {
      "cell_type": "code",
      "source": [
        "from sklearn import preprocessing\n",
        "label_encoder = preprocessing.LabelEncoder()\n",
        "label_encoder.fit(data['trending_date'])\n",
        "data['trending_date'] = label_encoder.transform(data['trending_date'])"
      ],
      "metadata": {
        "id": "FJZPyDhI9YCy"
      },
      "execution_count": 526,
      "outputs": []
    },
    {
      "cell_type": "code",
      "source": [
        "from sklearn import preprocessing\n",
        "label_encoder = preprocessing.LabelEncoder()\n",
        "label_encoder.fit(data['isTest'])\n",
        "data['isTest'] = label_encoder.transform(data['isTest'])"
      ],
      "metadata": {
        "id": "utrHn_XO-OYn"
      },
      "execution_count": 527,
      "outputs": []
    },
    {
      "cell_type": "code",
      "source": [
        "data.describe()"
      ],
      "metadata": {
        "colab": {
          "base_uri": "https://localhost:8080/",
          "height": 364
        },
        "id": "GcjCUEUL-CcT",
        "outputId": "5a39ac69-edd0-45ca-d90a-99726171591d"
      },
      "execution_count": 528,
      "outputs": [
        {
          "output_type": "execute_result",
          "data": {
            "text/html": [
              "\n",
              "  <div id=\"df-b21957ee-a273-47a8-9501-ee95ab55d3cb\">\n",
              "    <div class=\"colab-df-container\">\n",
              "      <div>\n",
              "<style scoped>\n",
              "    .dataframe tbody tr th:only-of-type {\n",
              "        vertical-align: middle;\n",
              "    }\n",
              "\n",
              "    .dataframe tbody tr th {\n",
              "        vertical-align: top;\n",
              "    }\n",
              "\n",
              "    .dataframe thead th {\n",
              "        text-align: right;\n",
              "    }\n",
              "</style>\n",
              "<table border=\"1\" class=\"dataframe\">\n",
              "  <thead>\n",
              "    <tr style=\"text-align: right;\">\n",
              "      <th></th>\n",
              "      <th>video_id</th>\n",
              "      <th>title</th>\n",
              "      <th>publishedAt</th>\n",
              "      <th>channelId</th>\n",
              "      <th>channelTitle</th>\n",
              "      <th>categoryId</th>\n",
              "      <th>trending_date</th>\n",
              "      <th>tags</th>\n",
              "      <th>thumbnail_link</th>\n",
              "      <th>comments_disabled</th>\n",
              "      <th>ratings_disabled</th>\n",
              "      <th>description</th>\n",
              "      <th>id</th>\n",
              "      <th>duration_seconds</th>\n",
              "      <th>has_thumbnail</th>\n",
              "      <th>isTest</th>\n",
              "    </tr>\n",
              "  </thead>\n",
              "  <tbody>\n",
              "    <tr>\n",
              "      <th>count</th>\n",
              "      <td>5375.000000</td>\n",
              "      <td>5375.000000</td>\n",
              "      <td>5375.000000</td>\n",
              "      <td>5375.000000</td>\n",
              "      <td>5375.000000</td>\n",
              "      <td>5375.000000</td>\n",
              "      <td>5375.000000</td>\n",
              "      <td>5375.000000</td>\n",
              "      <td>5375.000000</td>\n",
              "      <td>5375.000000</td>\n",
              "      <td>5375.000000</td>\n",
              "      <td>5375.000000</td>\n",
              "      <td>5375.000000</td>\n",
              "      <td>5375.000000</td>\n",
              "      <td>5375.000000</td>\n",
              "      <td>5375.0</td>\n",
              "    </tr>\n",
              "    <tr>\n",
              "      <th>mean</th>\n",
              "      <td>615.765953</td>\n",
              "      <td>649.199814</td>\n",
              "      <td>687.920372</td>\n",
              "      <td>425.624744</td>\n",
              "      <td>432.425302</td>\n",
              "      <td>19.013953</td>\n",
              "      <td>13.958884</td>\n",
              "      <td>470.668651</td>\n",
              "      <td>615.765953</td>\n",
              "      <td>0.006884</td>\n",
              "      <td>0.036279</td>\n",
              "      <td>632.659721</td>\n",
              "      <td>2687.000000</td>\n",
              "      <td>322.741395</td>\n",
              "      <td>0.901767</td>\n",
              "      <td>0.0</td>\n",
              "    </tr>\n",
              "    <tr>\n",
              "      <th>std</th>\n",
              "      <td>356.179890</td>\n",
              "      <td>369.704201</td>\n",
              "      <td>327.219095</td>\n",
              "      <td>247.879898</td>\n",
              "      <td>242.295210</td>\n",
              "      <td>6.755471</td>\n",
              "      <td>8.392071</td>\n",
              "      <td>250.216390</td>\n",
              "      <td>356.179890</td>\n",
              "      <td>0.082690</td>\n",
              "      <td>0.187001</td>\n",
              "      <td>369.003348</td>\n",
              "      <td>1551.773179</td>\n",
              "      <td>233.203053</td>\n",
              "      <td>0.297657</td>\n",
              "      <td>0.0</td>\n",
              "    </tr>\n",
              "    <tr>\n",
              "      <th>min</th>\n",
              "      <td>0.000000</td>\n",
              "      <td>0.000000</td>\n",
              "      <td>0.000000</td>\n",
              "      <td>0.000000</td>\n",
              "      <td>0.000000</td>\n",
              "      <td>1.000000</td>\n",
              "      <td>0.000000</td>\n",
              "      <td>0.000000</td>\n",
              "      <td>0.000000</td>\n",
              "      <td>0.000000</td>\n",
              "      <td>0.000000</td>\n",
              "      <td>0.000000</td>\n",
              "      <td>0.000000</td>\n",
              "      <td>0.000000</td>\n",
              "      <td>0.000000</td>\n",
              "      <td>0.0</td>\n",
              "    </tr>\n",
              "    <tr>\n",
              "      <th>25%</th>\n",
              "      <td>308.000000</td>\n",
              "      <td>332.000000</td>\n",
              "      <td>407.000000</td>\n",
              "      <td>201.500000</td>\n",
              "      <td>228.000000</td>\n",
              "      <td>17.000000</td>\n",
              "      <td>7.000000</td>\n",
              "      <td>311.000000</td>\n",
              "      <td>308.000000</td>\n",
              "      <td>0.000000</td>\n",
              "      <td>0.000000</td>\n",
              "      <td>309.000000</td>\n",
              "      <td>1343.500000</td>\n",
              "      <td>110.000000</td>\n",
              "      <td>1.000000</td>\n",
              "      <td>0.0</td>\n",
              "    </tr>\n",
              "    <tr>\n",
              "      <th>50%</th>\n",
              "      <td>613.000000</td>\n",
              "      <td>647.000000</td>\n",
              "      <td>733.000000</td>\n",
              "      <td>427.000000</td>\n",
              "      <td>443.000000</td>\n",
              "      <td>20.000000</td>\n",
              "      <td>14.000000</td>\n",
              "      <td>402.000000</td>\n",
              "      <td>613.000000</td>\n",
              "      <td>0.000000</td>\n",
              "      <td>0.000000</td>\n",
              "      <td>638.000000</td>\n",
              "      <td>2687.000000</td>\n",
              "      <td>292.000000</td>\n",
              "      <td>1.000000</td>\n",
              "      <td>0.0</td>\n",
              "    </tr>\n",
              "    <tr>\n",
              "      <th>75%</th>\n",
              "      <td>917.000000</td>\n",
              "      <td>969.000000</td>\n",
              "      <td>975.000000</td>\n",
              "      <td>642.000000</td>\n",
              "      <td>633.000000</td>\n",
              "      <td>24.000000</td>\n",
              "      <td>21.000000</td>\n",
              "      <td>668.000000</td>\n",
              "      <td>917.000000</td>\n",
              "      <td>0.000000</td>\n",
              "      <td>0.000000</td>\n",
              "      <td>949.000000</td>\n",
              "      <td>4030.500000</td>\n",
              "      <td>519.000000</td>\n",
              "      <td>1.000000</td>\n",
              "      <td>0.0</td>\n",
              "    </tr>\n",
              "    <tr>\n",
              "      <th>max</th>\n",
              "      <td>1250.000000</td>\n",
              "      <td>1293.000000</td>\n",
              "      <td>1235.000000</td>\n",
              "      <td>851.000000</td>\n",
              "      <td>854.000000</td>\n",
              "      <td>28.000000</td>\n",
              "      <td>28.000000</td>\n",
              "      <td>960.000000</td>\n",
              "      <td>1250.000000</td>\n",
              "      <td>1.000000</td>\n",
              "      <td>1.000000</td>\n",
              "      <td>1271.000000</td>\n",
              "      <td>5374.000000</td>\n",
              "      <td>778.000000</td>\n",
              "      <td>1.000000</td>\n",
              "      <td>0.0</td>\n",
              "    </tr>\n",
              "  </tbody>\n",
              "</table>\n",
              "</div>\n",
              "      <button class=\"colab-df-convert\" onclick=\"convertToInteractive('df-b21957ee-a273-47a8-9501-ee95ab55d3cb')\"\n",
              "              title=\"Convert this dataframe to an interactive table.\"\n",
              "              style=\"display:none;\">\n",
              "        \n",
              "  <svg xmlns=\"http://www.w3.org/2000/svg\" height=\"24px\"viewBox=\"0 0 24 24\"\n",
              "       width=\"24px\">\n",
              "    <path d=\"M0 0h24v24H0V0z\" fill=\"none\"/>\n",
              "    <path d=\"M18.56 5.44l.94 2.06.94-2.06 2.06-.94-2.06-.94-.94-2.06-.94 2.06-2.06.94zm-11 1L8.5 8.5l.94-2.06 2.06-.94-2.06-.94L8.5 2.5l-.94 2.06-2.06.94zm10 10l.94 2.06.94-2.06 2.06-.94-2.06-.94-.94-2.06-.94 2.06-2.06.94z\"/><path d=\"M17.41 7.96l-1.37-1.37c-.4-.4-.92-.59-1.43-.59-.52 0-1.04.2-1.43.59L10.3 9.45l-7.72 7.72c-.78.78-.78 2.05 0 2.83L4 21.41c.39.39.9.59 1.41.59.51 0 1.02-.2 1.41-.59l7.78-7.78 2.81-2.81c.8-.78.8-2.07 0-2.86zM5.41 20L4 18.59l7.72-7.72 1.47 1.35L5.41 20z\"/>\n",
              "  </svg>\n",
              "      </button>\n",
              "      \n",
              "  <style>\n",
              "    .colab-df-container {\n",
              "      display:flex;\n",
              "      flex-wrap:wrap;\n",
              "      gap: 12px;\n",
              "    }\n",
              "\n",
              "    .colab-df-convert {\n",
              "      background-color: #E8F0FE;\n",
              "      border: none;\n",
              "      border-radius: 50%;\n",
              "      cursor: pointer;\n",
              "      display: none;\n",
              "      fill: #1967D2;\n",
              "      height: 32px;\n",
              "      padding: 0 0 0 0;\n",
              "      width: 32px;\n",
              "    }\n",
              "\n",
              "    .colab-df-convert:hover {\n",
              "      background-color: #E2EBFA;\n",
              "      box-shadow: 0px 1px 2px rgba(60, 64, 67, 0.3), 0px 1px 3px 1px rgba(60, 64, 67, 0.15);\n",
              "      fill: #174EA6;\n",
              "    }\n",
              "\n",
              "    [theme=dark] .colab-df-convert {\n",
              "      background-color: #3B4455;\n",
              "      fill: #D2E3FC;\n",
              "    }\n",
              "\n",
              "    [theme=dark] .colab-df-convert:hover {\n",
              "      background-color: #434B5C;\n",
              "      box-shadow: 0px 1px 3px 1px rgba(0, 0, 0, 0.15);\n",
              "      filter: drop-shadow(0px 1px 2px rgba(0, 0, 0, 0.3));\n",
              "      fill: #FFFFFF;\n",
              "    }\n",
              "  </style>\n",
              "\n",
              "      <script>\n",
              "        const buttonEl =\n",
              "          document.querySelector('#df-b21957ee-a273-47a8-9501-ee95ab55d3cb button.colab-df-convert');\n",
              "        buttonEl.style.display =\n",
              "          google.colab.kernel.accessAllowed ? 'block' : 'none';\n",
              "\n",
              "        async function convertToInteractive(key) {\n",
              "          const element = document.querySelector('#df-b21957ee-a273-47a8-9501-ee95ab55d3cb');\n",
              "          const dataTable =\n",
              "            await google.colab.kernel.invokeFunction('convertToInteractive',\n",
              "                                                     [key], {});\n",
              "          if (!dataTable) return;\n",
              "\n",
              "          const docLinkHtml = 'Like what you see? Visit the ' +\n",
              "            '<a target=\"_blank\" href=https://colab.research.google.com/notebooks/data_table.ipynb>data table notebook</a>'\n",
              "            + ' to learn more about interactive tables.';\n",
              "          element.innerHTML = '';\n",
              "          dataTable['output_type'] = 'display_data';\n",
              "          await google.colab.output.renderOutput(dataTable, element);\n",
              "          const docLink = document.createElement('div');\n",
              "          docLink.innerHTML = docLinkHtml;\n",
              "          element.appendChild(docLink);\n",
              "        }\n",
              "      </script>\n",
              "    </div>\n",
              "  </div>\n",
              "  "
            ],
            "text/plain": [
              "          video_id        title  ...  has_thumbnail  isTest\n",
              "count  5375.000000  5375.000000  ...    5375.000000  5375.0\n",
              "mean    615.765953   649.199814  ...       0.901767     0.0\n",
              "std     356.179890   369.704201  ...       0.297657     0.0\n",
              "min       0.000000     0.000000  ...       0.000000     0.0\n",
              "25%     308.000000   332.000000  ...       1.000000     0.0\n",
              "50%     613.000000   647.000000  ...       1.000000     0.0\n",
              "75%     917.000000   969.000000  ...       1.000000     0.0\n",
              "max    1250.000000  1293.000000  ...       1.000000     0.0\n",
              "\n",
              "[8 rows x 16 columns]"
            ]
          },
          "metadata": {},
          "execution_count": 528
        }
      ]
    },
    {
      "cell_type": "code",
      "source": [
        "data.dtypes"
      ],
      "metadata": {
        "colab": {
          "base_uri": "https://localhost:8080/"
        },
        "id": "wkU7QV_Y9OKH",
        "outputId": "6df280af-d034-410d-9ca5-281f3fd3abdc"
      },
      "execution_count": 529,
      "outputs": [
        {
          "output_type": "execute_result",
          "data": {
            "text/plain": [
              "video_id             int64\n",
              "title                int64\n",
              "publishedAt          int64\n",
              "channelId            int64\n",
              "channelTitle         int64\n",
              "categoryId           int64\n",
              "trending_date        int64\n",
              "tags                 int64\n",
              "thumbnail_link       int64\n",
              "comments_disabled    int64\n",
              "ratings_disabled     int64\n",
              "description          int64\n",
              "id                   int64\n",
              "duration_seconds     int64\n",
              "has_thumbnail        int64\n",
              "isTest               int64\n",
              "dtype: object"
            ]
          },
          "metadata": {},
          "execution_count": 529
        }
      ]
    },
    {
      "cell_type": "code",
      "source": [
        "train_data.describe()"
      ],
      "metadata": {
        "colab": {
          "base_uri": "https://localhost:8080/",
          "height": 300
        },
        "id": "z3NPb486y7bJ",
        "outputId": "fddb32ab-1b04-467a-b19e-b7a5fa5d022d"
      },
      "execution_count": 530,
      "outputs": [
        {
          "output_type": "execute_result",
          "data": {
            "text/html": [
              "\n",
              "  <div id=\"df-bd18f01b-defd-47ad-bdeb-c132adf2d016\">\n",
              "    <div class=\"colab-df-container\">\n",
              "      <div>\n",
              "<style scoped>\n",
              "    .dataframe tbody tr th:only-of-type {\n",
              "        vertical-align: middle;\n",
              "    }\n",
              "\n",
              "    .dataframe tbody tr th {\n",
              "        vertical-align: top;\n",
              "    }\n",
              "\n",
              "    .dataframe thead th {\n",
              "        text-align: right;\n",
              "    }\n",
              "</style>\n",
              "<table border=\"1\" class=\"dataframe\">\n",
              "  <thead>\n",
              "    <tr style=\"text-align: right;\">\n",
              "      <th></th>\n",
              "      <th>categoryId</th>\n",
              "      <th>view_count</th>\n",
              "      <th>likes</th>\n",
              "      <th>dislikes</th>\n",
              "      <th>comment_count</th>\n",
              "      <th>duration_seconds</th>\n",
              "      <th>target</th>\n",
              "    </tr>\n",
              "  </thead>\n",
              "  <tbody>\n",
              "    <tr>\n",
              "      <th>count</th>\n",
              "      <td>92275.000000</td>\n",
              "      <td>9.227500e+04</td>\n",
              "      <td>9.227500e+04</td>\n",
              "      <td>92275.000000</td>\n",
              "      <td>9.227500e+04</td>\n",
              "      <td>90099.000000</td>\n",
              "      <td>92275.000000</td>\n",
              "    </tr>\n",
              "    <tr>\n",
              "      <th>mean</th>\n",
              "      <td>18.733416</td>\n",
              "      <td>2.779091e+06</td>\n",
              "      <td>1.521223e+05</td>\n",
              "      <td>3110.977307</td>\n",
              "      <td>1.373574e+04</td>\n",
              "      <td>760.614602</td>\n",
              "      <td>0.057060</td>\n",
              "    </tr>\n",
              "    <tr>\n",
              "      <th>std</th>\n",
              "      <td>6.866404</td>\n",
              "      <td>7.364113e+06</td>\n",
              "      <td>4.374777e+05</td>\n",
              "      <td>13342.743386</td>\n",
              "      <td>9.672682e+04</td>\n",
              "      <td>5816.818926</td>\n",
              "      <td>0.040373</td>\n",
              "    </tr>\n",
              "    <tr>\n",
              "      <th>min</th>\n",
              "      <td>1.000000</td>\n",
              "      <td>3.851000e+04</td>\n",
              "      <td>0.000000e+00</td>\n",
              "      <td>0.000000</td>\n",
              "      <td>0.000000e+00</td>\n",
              "      <td>3.000000</td>\n",
              "      <td>0.000000</td>\n",
              "    </tr>\n",
              "    <tr>\n",
              "      <th>25%</th>\n",
              "      <td>17.000000</td>\n",
              "      <td>5.312440e+05</td>\n",
              "      <td>2.136300e+04</td>\n",
              "      <td>368.000000</td>\n",
              "      <td>1.692000e+03</td>\n",
              "      <td>184.000000</td>\n",
              "      <td>0.028066</td>\n",
              "    </tr>\n",
              "    <tr>\n",
              "      <th>50%</th>\n",
              "      <td>20.000000</td>\n",
              "      <td>1.100045e+06</td>\n",
              "      <td>5.169200e+04</td>\n",
              "      <td>852.000000</td>\n",
              "      <td>3.856000e+03</td>\n",
              "      <td>446.000000</td>\n",
              "      <td>0.050784</td>\n",
              "    </tr>\n",
              "    <tr>\n",
              "      <th>75%</th>\n",
              "      <td>24.000000</td>\n",
              "      <td>2.482274e+06</td>\n",
              "      <td>1.312825e+05</td>\n",
              "      <td>2239.000000</td>\n",
              "      <td>9.322000e+03</td>\n",
              "      <td>854.000000</td>\n",
              "      <td>0.075265</td>\n",
              "    </tr>\n",
              "    <tr>\n",
              "      <th>max</th>\n",
              "      <td>29.000000</td>\n",
              "      <td>2.644074e+08</td>\n",
              "      <td>1.602153e+07</td>\n",
              "      <td>879354.000000</td>\n",
              "      <td>6.738537e+06</td>\n",
              "      <td>485620.000000</td>\n",
              "      <td>0.433503</td>\n",
              "    </tr>\n",
              "  </tbody>\n",
              "</table>\n",
              "</div>\n",
              "      <button class=\"colab-df-convert\" onclick=\"convertToInteractive('df-bd18f01b-defd-47ad-bdeb-c132adf2d016')\"\n",
              "              title=\"Convert this dataframe to an interactive table.\"\n",
              "              style=\"display:none;\">\n",
              "        \n",
              "  <svg xmlns=\"http://www.w3.org/2000/svg\" height=\"24px\"viewBox=\"0 0 24 24\"\n",
              "       width=\"24px\">\n",
              "    <path d=\"M0 0h24v24H0V0z\" fill=\"none\"/>\n",
              "    <path d=\"M18.56 5.44l.94 2.06.94-2.06 2.06-.94-2.06-.94-.94-2.06-.94 2.06-2.06.94zm-11 1L8.5 8.5l.94-2.06 2.06-.94-2.06-.94L8.5 2.5l-.94 2.06-2.06.94zm10 10l.94 2.06.94-2.06 2.06-.94-2.06-.94-.94-2.06-.94 2.06-2.06.94z\"/><path d=\"M17.41 7.96l-1.37-1.37c-.4-.4-.92-.59-1.43-.59-.52 0-1.04.2-1.43.59L10.3 9.45l-7.72 7.72c-.78.78-.78 2.05 0 2.83L4 21.41c.39.39.9.59 1.41.59.51 0 1.02-.2 1.41-.59l7.78-7.78 2.81-2.81c.8-.78.8-2.07 0-2.86zM5.41 20L4 18.59l7.72-7.72 1.47 1.35L5.41 20z\"/>\n",
              "  </svg>\n",
              "      </button>\n",
              "      \n",
              "  <style>\n",
              "    .colab-df-container {\n",
              "      display:flex;\n",
              "      flex-wrap:wrap;\n",
              "      gap: 12px;\n",
              "    }\n",
              "\n",
              "    .colab-df-convert {\n",
              "      background-color: #E8F0FE;\n",
              "      border: none;\n",
              "      border-radius: 50%;\n",
              "      cursor: pointer;\n",
              "      display: none;\n",
              "      fill: #1967D2;\n",
              "      height: 32px;\n",
              "      padding: 0 0 0 0;\n",
              "      width: 32px;\n",
              "    }\n",
              "\n",
              "    .colab-df-convert:hover {\n",
              "      background-color: #E2EBFA;\n",
              "      box-shadow: 0px 1px 2px rgba(60, 64, 67, 0.3), 0px 1px 3px 1px rgba(60, 64, 67, 0.15);\n",
              "      fill: #174EA6;\n",
              "    }\n",
              "\n",
              "    [theme=dark] .colab-df-convert {\n",
              "      background-color: #3B4455;\n",
              "      fill: #D2E3FC;\n",
              "    }\n",
              "\n",
              "    [theme=dark] .colab-df-convert:hover {\n",
              "      background-color: #434B5C;\n",
              "      box-shadow: 0px 1px 3px 1px rgba(0, 0, 0, 0.15);\n",
              "      filter: drop-shadow(0px 1px 2px rgba(0, 0, 0, 0.3));\n",
              "      fill: #FFFFFF;\n",
              "    }\n",
              "  </style>\n",
              "\n",
              "      <script>\n",
              "        const buttonEl =\n",
              "          document.querySelector('#df-bd18f01b-defd-47ad-bdeb-c132adf2d016 button.colab-df-convert');\n",
              "        buttonEl.style.display =\n",
              "          google.colab.kernel.accessAllowed ? 'block' : 'none';\n",
              "\n",
              "        async function convertToInteractive(key) {\n",
              "          const element = document.querySelector('#df-bd18f01b-defd-47ad-bdeb-c132adf2d016');\n",
              "          const dataTable =\n",
              "            await google.colab.kernel.invokeFunction('convertToInteractive',\n",
              "                                                     [key], {});\n",
              "          if (!dataTable) return;\n",
              "\n",
              "          const docLinkHtml = 'Like what you see? Visit the ' +\n",
              "            '<a target=\"_blank\" href=https://colab.research.google.com/notebooks/data_table.ipynb>data table notebook</a>'\n",
              "            + ' to learn more about interactive tables.';\n",
              "          element.innerHTML = '';\n",
              "          dataTable['output_type'] = 'display_data';\n",
              "          await google.colab.output.renderOutput(dataTable, element);\n",
              "          const docLink = document.createElement('div');\n",
              "          docLink.innerHTML = docLinkHtml;\n",
              "          element.appendChild(docLink);\n",
              "        }\n",
              "      </script>\n",
              "    </div>\n",
              "  </div>\n",
              "  "
            ],
            "text/plain": [
              "         categoryId    view_count  ...  duration_seconds        target\n",
              "count  92275.000000  9.227500e+04  ...      90099.000000  92275.000000\n",
              "mean      18.733416  2.779091e+06  ...        760.614602      0.057060\n",
              "std        6.866404  7.364113e+06  ...       5816.818926      0.040373\n",
              "min        1.000000  3.851000e+04  ...          3.000000      0.000000\n",
              "25%       17.000000  5.312440e+05  ...        184.000000      0.028066\n",
              "50%       20.000000  1.100045e+06  ...        446.000000      0.050784\n",
              "75%       24.000000  2.482274e+06  ...        854.000000      0.075265\n",
              "max       29.000000  2.644074e+08  ...     485620.000000      0.433503\n",
              "\n",
              "[8 rows x 7 columns]"
            ]
          },
          "metadata": {},
          "execution_count": 530
        }
      ]
    },
    {
      "cell_type": "markdown",
      "source": [
        "**Checking missing values**"
      ],
      "metadata": {
        "id": "cvE8CVPZuxLc"
      }
    },
    {
      "cell_type": "code",
      "source": [
        "miss_val = train_data.isna().sum()\n",
        "miss_val"
      ],
      "metadata": {
        "colab": {
          "base_uri": "https://localhost:8080/"
        },
        "id": "hepW60NLzCn5",
        "outputId": "aeced297-0761-40e4-9110-cf8af5c574fa"
      },
      "execution_count": 531,
      "outputs": [
        {
          "output_type": "execute_result",
          "data": {
            "text/plain": [
              "video_id                0\n",
              "title                   0\n",
              "publishedAt             0\n",
              "channelId               0\n",
              "channelTitle            0\n",
              "categoryId              0\n",
              "trending_date           0\n",
              "tags                    0\n",
              "view_count              0\n",
              "likes                   0\n",
              "dislikes                0\n",
              "comment_count           0\n",
              "thumbnail_link          0\n",
              "comments_disabled       0\n",
              "ratings_disabled        0\n",
              "description          1476\n",
              "id                      0\n",
              "duration_seconds     2176\n",
              "has_thumbnail           0\n",
              "target                  0\n",
              "dtype: int64"
            ]
          },
          "metadata": {},
          "execution_count": 531
        }
      ]
    },
    {
      "cell_type": "code",
      "source": [
        "train_data = train_data.dropna()"
      ],
      "metadata": {
        "id": "2bSddNZb0Gka"
      },
      "execution_count": 532,
      "outputs": []
    },
    {
      "cell_type": "code",
      "source": [
        "miss_val = train_data.isna().sum()\n",
        "miss_val"
      ],
      "metadata": {
        "colab": {
          "base_uri": "https://localhost:8080/"
        },
        "id": "hjtkjTHk0OP9",
        "outputId": "f8a67a3d-59a8-478d-cd8c-547ad0b8c4e2"
      },
      "execution_count": 533,
      "outputs": [
        {
          "output_type": "execute_result",
          "data": {
            "text/plain": [
              "video_id             0\n",
              "title                0\n",
              "publishedAt          0\n",
              "channelId            0\n",
              "channelTitle         0\n",
              "categoryId           0\n",
              "trending_date        0\n",
              "tags                 0\n",
              "view_count           0\n",
              "likes                0\n",
              "dislikes             0\n",
              "comment_count        0\n",
              "thumbnail_link       0\n",
              "comments_disabled    0\n",
              "ratings_disabled     0\n",
              "description          0\n",
              "id                   0\n",
              "duration_seconds     0\n",
              "has_thumbnail        0\n",
              "target               0\n",
              "dtype: int64"
            ]
          },
          "metadata": {},
          "execution_count": 533
        }
      ]
    },
    {
      "cell_type": "markdown",
      "source": [
        "**Cheking correlation**"
      ],
      "metadata": {
        "id": "T8LGOFd_u50v"
      }
    },
    {
      "cell_type": "code",
      "source": [
        "data_correlation = train_data.corr()\n",
        "data_correlation"
      ],
      "metadata": {
        "colab": {
          "base_uri": "https://localhost:8080/",
          "height": 427
        },
        "id": "nmrsdKMozVk-",
        "outputId": "18654ba6-c39b-4809-bb14-ae7ac455edc9"
      },
      "execution_count": 534,
      "outputs": [
        {
          "output_type": "execute_result",
          "data": {
            "text/html": [
              "\n",
              "  <div id=\"df-fbb44cc2-29d1-44a3-8867-ff1f3be28c55\">\n",
              "    <div class=\"colab-df-container\">\n",
              "      <div>\n",
              "<style scoped>\n",
              "    .dataframe tbody tr th:only-of-type {\n",
              "        vertical-align: middle;\n",
              "    }\n",
              "\n",
              "    .dataframe tbody tr th {\n",
              "        vertical-align: top;\n",
              "    }\n",
              "\n",
              "    .dataframe thead th {\n",
              "        text-align: right;\n",
              "    }\n",
              "</style>\n",
              "<table border=\"1\" class=\"dataframe\">\n",
              "  <thead>\n",
              "    <tr style=\"text-align: right;\">\n",
              "      <th></th>\n",
              "      <th>categoryId</th>\n",
              "      <th>view_count</th>\n",
              "      <th>likes</th>\n",
              "      <th>dislikes</th>\n",
              "      <th>comment_count</th>\n",
              "      <th>comments_disabled</th>\n",
              "      <th>ratings_disabled</th>\n",
              "      <th>duration_seconds</th>\n",
              "      <th>has_thumbnail</th>\n",
              "      <th>target</th>\n",
              "    </tr>\n",
              "  </thead>\n",
              "  <tbody>\n",
              "    <tr>\n",
              "      <th>categoryId</th>\n",
              "      <td>1.000000</td>\n",
              "      <td>-0.060235</td>\n",
              "      <td>-0.088672</td>\n",
              "      <td>-0.047968</td>\n",
              "      <td>-0.063661</td>\n",
              "      <td>0.093193</td>\n",
              "      <td>0.015578</td>\n",
              "      <td>0.043006</td>\n",
              "      <td>-0.005579</td>\n",
              "      <td>-0.101196</td>\n",
              "    </tr>\n",
              "    <tr>\n",
              "      <th>view_count</th>\n",
              "      <td>-0.060235</td>\n",
              "      <td>1.000000</td>\n",
              "      <td>0.855172</td>\n",
              "      <td>0.698304</td>\n",
              "      <td>0.552851</td>\n",
              "      <td>-0.002041</td>\n",
              "      <td>0.018585</td>\n",
              "      <td>0.056385</td>\n",
              "      <td>-0.001006</td>\n",
              "      <td>-0.018430</td>\n",
              "    </tr>\n",
              "    <tr>\n",
              "      <th>likes</th>\n",
              "      <td>-0.088672</td>\n",
              "      <td>0.855172</td>\n",
              "      <td>1.000000</td>\n",
              "      <td>0.666642</td>\n",
              "      <td>0.725644</td>\n",
              "      <td>-0.026284</td>\n",
              "      <td>-0.023514</td>\n",
              "      <td>-0.010215</td>\n",
              "      <td>-0.003366</td>\n",
              "      <td>0.202934</td>\n",
              "    </tr>\n",
              "    <tr>\n",
              "      <th>dislikes</th>\n",
              "      <td>-0.047968</td>\n",
              "      <td>0.698304</td>\n",
              "      <td>0.666642</td>\n",
              "      <td>1.000000</td>\n",
              "      <td>0.544269</td>\n",
              "      <td>0.007627</td>\n",
              "      <td>-0.015522</td>\n",
              "      <td>0.022831</td>\n",
              "      <td>-0.012424</td>\n",
              "      <td>0.006248</td>\n",
              "    </tr>\n",
              "    <tr>\n",
              "      <th>comment_count</th>\n",
              "      <td>-0.063661</td>\n",
              "      <td>0.552851</td>\n",
              "      <td>0.725644</td>\n",
              "      <td>0.544269</td>\n",
              "      <td>1.000000</td>\n",
              "      <td>-0.017655</td>\n",
              "      <td>-0.005844</td>\n",
              "      <td>-0.006207</td>\n",
              "      <td>-0.008897</td>\n",
              "      <td>0.081240</td>\n",
              "    </tr>\n",
              "    <tr>\n",
              "      <th>comments_disabled</th>\n",
              "      <td>0.093193</td>\n",
              "      <td>-0.002041</td>\n",
              "      <td>-0.026284</td>\n",
              "      <td>0.007627</td>\n",
              "      <td>-0.017655</td>\n",
              "      <td>1.000000</td>\n",
              "      <td>0.179925</td>\n",
              "      <td>0.023627</td>\n",
              "      <td>-0.003710</td>\n",
              "      <td>-0.085706</td>\n",
              "    </tr>\n",
              "    <tr>\n",
              "      <th>ratings_disabled</th>\n",
              "      <td>0.015578</td>\n",
              "      <td>0.018585</td>\n",
              "      <td>-0.023514</td>\n",
              "      <td>-0.015522</td>\n",
              "      <td>-0.005844</td>\n",
              "      <td>0.179925</td>\n",
              "      <td>1.000000</td>\n",
              "      <td>-0.001674</td>\n",
              "      <td>0.003991</td>\n",
              "      <td>-0.096604</td>\n",
              "    </tr>\n",
              "    <tr>\n",
              "      <th>duration_seconds</th>\n",
              "      <td>0.043006</td>\n",
              "      <td>0.056385</td>\n",
              "      <td>-0.010215</td>\n",
              "      <td>0.022831</td>\n",
              "      <td>-0.006207</td>\n",
              "      <td>0.023627</td>\n",
              "      <td>-0.001674</td>\n",
              "      <td>1.000000</td>\n",
              "      <td>0.004935</td>\n",
              "      <td>-0.035559</td>\n",
              "    </tr>\n",
              "    <tr>\n",
              "      <th>has_thumbnail</th>\n",
              "      <td>-0.005579</td>\n",
              "      <td>-0.001006</td>\n",
              "      <td>-0.003366</td>\n",
              "      <td>-0.012424</td>\n",
              "      <td>-0.008897</td>\n",
              "      <td>-0.003710</td>\n",
              "      <td>0.003991</td>\n",
              "      <td>0.004935</td>\n",
              "      <td>1.000000</td>\n",
              "      <td>0.009836</td>\n",
              "    </tr>\n",
              "    <tr>\n",
              "      <th>target</th>\n",
              "      <td>-0.101196</td>\n",
              "      <td>-0.018430</td>\n",
              "      <td>0.202934</td>\n",
              "      <td>0.006248</td>\n",
              "      <td>0.081240</td>\n",
              "      <td>-0.085706</td>\n",
              "      <td>-0.096604</td>\n",
              "      <td>-0.035559</td>\n",
              "      <td>0.009836</td>\n",
              "      <td>1.000000</td>\n",
              "    </tr>\n",
              "  </tbody>\n",
              "</table>\n",
              "</div>\n",
              "      <button class=\"colab-df-convert\" onclick=\"convertToInteractive('df-fbb44cc2-29d1-44a3-8867-ff1f3be28c55')\"\n",
              "              title=\"Convert this dataframe to an interactive table.\"\n",
              "              style=\"display:none;\">\n",
              "        \n",
              "  <svg xmlns=\"http://www.w3.org/2000/svg\" height=\"24px\"viewBox=\"0 0 24 24\"\n",
              "       width=\"24px\">\n",
              "    <path d=\"M0 0h24v24H0V0z\" fill=\"none\"/>\n",
              "    <path d=\"M18.56 5.44l.94 2.06.94-2.06 2.06-.94-2.06-.94-.94-2.06-.94 2.06-2.06.94zm-11 1L8.5 8.5l.94-2.06 2.06-.94-2.06-.94L8.5 2.5l-.94 2.06-2.06.94zm10 10l.94 2.06.94-2.06 2.06-.94-2.06-.94-.94-2.06-.94 2.06-2.06.94z\"/><path d=\"M17.41 7.96l-1.37-1.37c-.4-.4-.92-.59-1.43-.59-.52 0-1.04.2-1.43.59L10.3 9.45l-7.72 7.72c-.78.78-.78 2.05 0 2.83L4 21.41c.39.39.9.59 1.41.59.51 0 1.02-.2 1.41-.59l7.78-7.78 2.81-2.81c.8-.78.8-2.07 0-2.86zM5.41 20L4 18.59l7.72-7.72 1.47 1.35L5.41 20z\"/>\n",
              "  </svg>\n",
              "      </button>\n",
              "      \n",
              "  <style>\n",
              "    .colab-df-container {\n",
              "      display:flex;\n",
              "      flex-wrap:wrap;\n",
              "      gap: 12px;\n",
              "    }\n",
              "\n",
              "    .colab-df-convert {\n",
              "      background-color: #E8F0FE;\n",
              "      border: none;\n",
              "      border-radius: 50%;\n",
              "      cursor: pointer;\n",
              "      display: none;\n",
              "      fill: #1967D2;\n",
              "      height: 32px;\n",
              "      padding: 0 0 0 0;\n",
              "      width: 32px;\n",
              "    }\n",
              "\n",
              "    .colab-df-convert:hover {\n",
              "      background-color: #E2EBFA;\n",
              "      box-shadow: 0px 1px 2px rgba(60, 64, 67, 0.3), 0px 1px 3px 1px rgba(60, 64, 67, 0.15);\n",
              "      fill: #174EA6;\n",
              "    }\n",
              "\n",
              "    [theme=dark] .colab-df-convert {\n",
              "      background-color: #3B4455;\n",
              "      fill: #D2E3FC;\n",
              "    }\n",
              "\n",
              "    [theme=dark] .colab-df-convert:hover {\n",
              "      background-color: #434B5C;\n",
              "      box-shadow: 0px 1px 3px 1px rgba(0, 0, 0, 0.15);\n",
              "      filter: drop-shadow(0px 1px 2px rgba(0, 0, 0, 0.3));\n",
              "      fill: #FFFFFF;\n",
              "    }\n",
              "  </style>\n",
              "\n",
              "      <script>\n",
              "        const buttonEl =\n",
              "          document.querySelector('#df-fbb44cc2-29d1-44a3-8867-ff1f3be28c55 button.colab-df-convert');\n",
              "        buttonEl.style.display =\n",
              "          google.colab.kernel.accessAllowed ? 'block' : 'none';\n",
              "\n",
              "        async function convertToInteractive(key) {\n",
              "          const element = document.querySelector('#df-fbb44cc2-29d1-44a3-8867-ff1f3be28c55');\n",
              "          const dataTable =\n",
              "            await google.colab.kernel.invokeFunction('convertToInteractive',\n",
              "                                                     [key], {});\n",
              "          if (!dataTable) return;\n",
              "\n",
              "          const docLinkHtml = 'Like what you see? Visit the ' +\n",
              "            '<a target=\"_blank\" href=https://colab.research.google.com/notebooks/data_table.ipynb>data table notebook</a>'\n",
              "            + ' to learn more about interactive tables.';\n",
              "          element.innerHTML = '';\n",
              "          dataTable['output_type'] = 'display_data';\n",
              "          await google.colab.output.renderOutput(dataTable, element);\n",
              "          const docLink = document.createElement('div');\n",
              "          docLink.innerHTML = docLinkHtml;\n",
              "          element.appendChild(docLink);\n",
              "        }\n",
              "      </script>\n",
              "    </div>\n",
              "  </div>\n",
              "  "
            ],
            "text/plain": [
              "                   categoryId  view_count  ...  has_thumbnail    target\n",
              "categoryId           1.000000   -0.060235  ...      -0.005579 -0.101196\n",
              "view_count          -0.060235    1.000000  ...      -0.001006 -0.018430\n",
              "likes               -0.088672    0.855172  ...      -0.003366  0.202934\n",
              "dislikes            -0.047968    0.698304  ...      -0.012424  0.006248\n",
              "comment_count       -0.063661    0.552851  ...      -0.008897  0.081240\n",
              "comments_disabled    0.093193   -0.002041  ...      -0.003710 -0.085706\n",
              "ratings_disabled     0.015578    0.018585  ...       0.003991 -0.096604\n",
              "duration_seconds     0.043006    0.056385  ...       0.004935 -0.035559\n",
              "has_thumbnail       -0.005579   -0.001006  ...       1.000000  0.009836\n",
              "target              -0.101196   -0.018430  ...       0.009836  1.000000\n",
              "\n",
              "[10 rows x 10 columns]"
            ]
          },
          "metadata": {},
          "execution_count": 534
        }
      ]
    },
    {
      "cell_type": "code",
      "source": [
        "plt.figure(figsize=(10,5))\n",
        "sns.heatmap(data_correlation, annot=True)"
      ],
      "metadata": {
        "colab": {
          "base_uri": "https://localhost:8080/",
          "height": 430
        },
        "id": "CM5YDLCsQrR5",
        "outputId": "90af8cdf-954f-41c3-dbd4-1606f4aae73f"
      },
      "execution_count": 535,
      "outputs": [
        {
          "output_type": "execute_result",
          "data": {
            "text/plain": [
              "<matplotlib.axes._subplots.AxesSubplot at 0x7f54e9b06790>"
            ]
          },
          "metadata": {},
          "execution_count": 535
        },
        {
          "output_type": "display_data",
          "data": {
            "image/png": "[encoded data removed]",
            "text/plain": [
              "<Figure size 720x360 with 2 Axes>"
            ]
          },
          "metadata": {
            "needs_background": "light"
          }
        }
      ]
    },
    {
      "cell_type": "code",
      "source": [
        "train_data.columns"
      ],
      "metadata": {
        "colab": {
          "base_uri": "https://localhost:8080/"
        },
        "id": "DQWQdtTG4II5",
        "outputId": "2b36591e-0169-4550-d99a-b12969c3d123"
      },
      "execution_count": 536,
      "outputs": [
        {
          "output_type": "execute_result",
          "data": {
            "text/plain": [
              "Index(['video_id', 'title', 'publishedAt', 'channelId', 'channelTitle',\n",
              "       'categoryId', 'trending_date', 'tags', 'view_count', 'likes',\n",
              "       'dislikes', 'comment_count', 'thumbnail_link', 'comments_disabled',\n",
              "       'ratings_disabled', 'description', 'id', 'duration_seconds',\n",
              "       'has_thumbnail', 'target'],\n",
              "      dtype='object')"
            ]
          },
          "metadata": {},
          "execution_count": 536
        }
      ]
    },
    {
      "cell_type": "markdown",
      "source": [
        "**Data visualization**"
      ],
      "metadata": {
        "id": "7_tfYMzWvbOh"
      }
    },
    {
      "cell_type": "code",
      "source": [
        "sns.countplot('has_thumbnail',data=train_data)\n",
        "plt.show()"
      ],
      "metadata": {
        "colab": {
          "base_uri": "https://localhost:8080/",
          "height": 335
        },
        "id": "oWstTMFmlNzz",
        "outputId": "2acd8198-d63a-47f9-a251-bf1095b24521"
      },
      "execution_count": 537,
      "outputs": [
        {
          "output_type": "stream",
          "name": "stderr",
          "text": [
            "/usr/local/lib/python3.7/dist-packages/seaborn/_decorators.py:43: FutureWarning: Pass the following variable as a keyword arg: x. From version 0.12, the only valid positional argument will be `data`, and passing other arguments without an explicit keyword will result in an error or misinterpretation.\n",
            "  FutureWarning\n"
          ]
        },
        {
          "output_type": "display_data",
          "data": {
            "image/png": "[encoded data removed]",
            "text/plain": [
              "<Figure size 432x288 with 1 Axes>"
            ]
          },
          "metadata": {
            "needs_background": "light"
          }
        }
      ]
    },
    {
      "cell_type": "code",
      "source": [
        "plt.figure(figsize=(15,12))\n",
        "plt.subplot(3,4,1)\n",
        "sns.boxplot(x=train_data['categoryId'])\n",
        "plt.subplot(3,4,2)\n",
        "sns.boxplot(x=train_data['comments_disabled'])\n",
        "plt.subplot(3,4,3)\n",
        "sns.boxplot(x=train_data['ratings_disabled'])\n",
        "plt.subplot(3,4,4)\n",
        "sns.boxplot(x=train_data['duration_seconds'])\n",
        "plt.subplot(3,4,5)\n",
        "sns.boxplot(x=train_data['has_thumbnail'])"
      ],
      "metadata": {
        "colab": {
          "base_uri": "https://localhost:8080/",
          "height": 502
        },
        "id": "PYSS7uwfnGkO",
        "outputId": "26dbf5ba-0abf-4149-9301-1d8a24425745"
      },
      "execution_count": 538,
      "outputs": [
        {
          "output_type": "execute_result",
          "data": {
            "text/plain": [
              "<matplotlib.axes._subplots.AxesSubplot at 0x7f54eaa0d610>"
            ]
          },
          "metadata": {},
          "execution_count": 538
        },
        {
          "output_type": "display_data",
          "data": {
            "image/png": "[encoded data removed]",
            "text/plain": [
              "<Figure size 1080x864 with 5 Axes>"
            ]
          },
          "metadata": {
            "needs_background": "light"
          }
        }
      ]
    },
    {
      "cell_type": "code",
      "source": [
        "sns.countplot('categoryId',data=train_data)\n",
        "plt.show()"
      ],
      "metadata": {
        "colab": {
          "base_uri": "https://localhost:8080/",
          "height": 334
        },
        "id": "aYT81nGJtvZ_",
        "outputId": "53069e17-4296-410b-88e9-fd7cb4d25607"
      },
      "execution_count": 539,
      "outputs": [
        {
          "output_type": "stream",
          "name": "stderr",
          "text": [
            "/usr/local/lib/python3.7/dist-packages/seaborn/_decorators.py:43: FutureWarning: Pass the following variable as a keyword arg: x. From version 0.12, the only valid positional argument will be `data`, and passing other arguments without an explicit keyword will result in an error or misinterpretation.\n",
            "  FutureWarning\n"
          ]
        },
        {
          "output_type": "display_data",
          "data": {
            "image/png": "[encoded data removed]",
            "text/plain": [
              "<Figure size 432x288 with 1 Axes>"
            ]
          },
          "metadata": {
            "needs_background": "light"
          }
        }
      ]
    },
    {
      "cell_type": "code",
      "source": [
        "data.shape"
      ],
      "metadata": {
        "colab": {
          "base_uri": "https://localhost:8080/"
        },
        "id": "_DLa09b-iDa2",
        "outputId": "69b185ae-884a-4b11-9ecd-92fa0e40e1be"
      },
      "execution_count": 541,
      "outputs": [
        {
          "output_type": "execute_result",
          "data": {
            "text/plain": [
              "(5375, 16)"
            ]
          },
          "metadata": {},
          "execution_count": 541
        }
      ]
    },
    {
      "cell_type": "code",
      "source": [
        "train_x.shape"
      ],
      "metadata": {
        "colab": {
          "base_uri": "https://localhost:8080/"
        },
        "id": "rC_EiDf6jWZ2",
        "outputId": "c3b9e4a7-cbd8-4fe9-bc21-7fe911050c5f"
      },
      "execution_count": 542,
      "outputs": [
        {
          "output_type": "execute_result",
          "data": {
            "text/plain": [
              "(88685, 16)"
            ]
          },
          "metadata": {},
          "execution_count": 542
        }
      ]
    },
    {
      "cell_type": "markdown",
      "source": [
        "**Label Encoding (changing categorical values into numerical values**"
      ],
      "metadata": {
        "id": "gJAezkfZvnTQ"
      }
    },
    {
      "cell_type": "code",
      "source": [
        "from sklearn import preprocessing\n",
        "label_encoder = preprocessing.LabelEncoder()\n",
        "label_encoder.fit(train_x['title'])\n",
        "train_data['title'] = label_encoder.transform(train_x['title'])"
      ],
      "metadata": {
        "id": "_duMP04Lg379"
      },
      "execution_count": 543,
      "outputs": []
    },
    {
      "cell_type": "code",
      "source": [
        "from sklearn import preprocessing\n",
        "label_encoder = preprocessing.LabelEncoder()\n",
        "label_encoder.fit(train_x['publishedAt'])\n",
        "train_data['publishedAt\t'] = label_encoder.transform(train_x['publishedAt'])"
      ],
      "metadata": {
        "id": "vfxv6pbqjLZL"
      },
      "execution_count": 544,
      "outputs": []
    },
    {
      "cell_type": "code",
      "source": [
        "label_encoder = preprocessing.LabelEncoder()\n",
        "label_encoder.fit(train_x['video_id'])\n",
        "train_data['video_id'] = label_encoder.transform(train_x['video_id'])"
      ],
      "metadata": {
        "id": "R3Tnxc4Ax1j6"
      },
      "execution_count": 545,
      "outputs": []
    },
    {
      "cell_type": "code",
      "source": [
        "from sklearn import preprocessing\n",
        "label_encoder = preprocessing.LabelEncoder()\n",
        "label_encoder.fit(train_x['channelId'])\n",
        "train_data['channelId'] = label_encoder.transform(train_x['channelId'])"
      ],
      "metadata": {
        "id": "e5aRF5agj_Nn"
      },
      "execution_count": 546,
      "outputs": []
    },
    {
      "cell_type": "code",
      "source": [
        "from sklearn import preprocessing\n",
        "label_encoder = preprocessing.LabelEncoder()\n",
        "label_encoder.fit(train_x['channelTitle'])\n",
        "train_data['channelTitle'] = label_encoder.transform(train_x['channelTitle'])"
      ],
      "metadata": {
        "id": "Ymf0SB8JkYF-"
      },
      "execution_count": 547,
      "outputs": []
    },
    {
      "cell_type": "code",
      "source": [
        "from sklearn import preprocessing\n",
        "label_encoder = preprocessing.LabelEncoder()\n",
        "label_encoder.fit(train_x['tags'])\n",
        "train_data['tags'] = label_encoder.transform(train_x['tags'])"
      ],
      "metadata": {
        "id": "C8mjB-iWkwpb"
      },
      "execution_count": 548,
      "outputs": []
    },
    {
      "cell_type": "code",
      "source": [
        "from sklearn import preprocessing\n",
        "label_encoder = preprocessing.LabelEncoder()\n",
        "label_encoder.fit(train_x['thumbnail_link'])\n",
        "train_data['thumbnail_link'] = label_encoder.transform(train_x['thumbnail_link'])"
      ],
      "metadata": {
        "id": "40eCr7KWlLzE"
      },
      "execution_count": 549,
      "outputs": []
    },
    {
      "cell_type": "code",
      "source": [
        "from sklearn import preprocessing\n",
        "label_encoder = preprocessing.LabelEncoder()\n",
        "label_encoder.fit(train_x['description'])\n",
        "train_data['description'] = label_encoder.transform(train_x['description'])"
      ],
      "metadata": {
        "id": "EQb_bSDUldWf"
      },
      "execution_count": 550,
      "outputs": []
    },
    {
      "cell_type": "code",
      "source": [
        "from sklearn import preprocessing\n",
        "label_encoder = preprocessing.LabelEncoder()\n",
        "label_encoder.fit(train_x['id'])\n",
        "train_data['id'] = label_encoder.transform(train_x['id'])"
      ],
      "metadata": {
        "id": "-hDlEjj8lqo1"
      },
      "execution_count": 551,
      "outputs": []
    },
    {
      "cell_type": "code",
      "source": [
        "from sklearn import preprocessing\n",
        "label_encoder = preprocessing.LabelEncoder()\n",
        "label_encoder.fit(train_x['trending_date'])\n",
        "train_data['trending_date'] = label_encoder.transform(train_x['trending_date'])"
      ],
      "metadata": {
        "id": "-fMe3ICImVrP"
      },
      "execution_count": 552,
      "outputs": []
    },
    {
      "cell_type": "code",
      "source": [
        "from sklearn import preprocessing\n",
        "label_encoder = preprocessing.LabelEncoder()\n",
        "label_encoder.fit(train_x['ratings_disabled'])\n",
        "train_data['ratings_disabled'] = label_encoder.transform(train_x['ratings_disabled'])"
      ],
      "metadata": {
        "id": "bXe9RtUnmoA-"
      },
      "execution_count": 553,
      "outputs": []
    },
    {
      "cell_type": "code",
      "source": [
        "from sklearn import preprocessing\n",
        "label_encoder = preprocessing.LabelEncoder()\n",
        "label_encoder.fit(train_x['comments_disabled'])\n",
        "train_data['comments_disabled'] = label_encoder.transform(train_x['comments_disabled'])"
      ],
      "metadata": {
        "id": "MViRZn93m3Ig"
      },
      "execution_count": 554,
      "outputs": []
    },
    {
      "cell_type": "code",
      "source": [
        "from sklearn import preprocessing\n",
        "label_encoder = preprocessing.LabelEncoder()\n",
        "label_encoder.fit(train_x['has_thumbnail'])\n",
        "train_data['has_thumbnail'] = label_encoder.transform(train_x['has_thumbnail'])"
      ],
      "metadata": {
        "id": "QWH8vJcEnMQ5"
      },
      "execution_count": 555,
      "outputs": []
    },
    {
      "cell_type": "code",
      "source": [
        "from sklearn import preprocessing\n",
        "label_encoder = preprocessing.LabelEncoder()\n",
        "label_encoder.fit(train_x['publishedAt'])\n",
        "train_data['publishedAt'] = label_encoder.transform(train_x['publishedAt'])"
      ],
      "metadata": {
        "id": "UiLD2Ht5ogN0"
      },
      "execution_count": 556,
      "outputs": []
    },
    {
      "cell_type": "code",
      "source": [
        "from sklearn import preprocessing\n",
        "label_encoder = preprocessing.LabelEncoder()\n",
        "label_encoder.fit(train_x['target'])\n",
        "train_data['target'] = label_encoder.transform(train_x['target'])"
      ],
      "metadata": {
        "id": "MVx1mXNM0xdl"
      },
      "execution_count": 557,
      "outputs": []
    },
    {
      "cell_type": "markdown",
      "source": [
        "**dividng and splitting data**"
      ],
      "metadata": {
        "id": "6pDMRXFQv8Ks"
      }
    },
    {
      "cell_type": "code",
      "source": [
        "train_x=train_data.drop(['view_count', 'likes',\n",
        "       'dislikes', 'comment_count','publishedAt\\t'],axis=1)\n",
        "train_y=train_data['likes']\n"
      ],
      "metadata": {
        "id": "hef35eLziGXD"
      },
      "execution_count": 558,
      "outputs": []
    },
    {
      "cell_type": "code",
      "source": [
        "data.shape"
      ],
      "metadata": {
        "colab": {
          "base_uri": "https://localhost:8080/"
        },
        "id": "jTklh6KiAiED",
        "outputId": "4690448c-dc6b-450c-ff3f-fbe4863a08b7"
      },
      "execution_count": 559,
      "outputs": [
        {
          "output_type": "execute_result",
          "data": {
            "text/plain": [
              "(5375, 16)"
            ]
          },
          "metadata": {},
          "execution_count": 559
        }
      ]
    },
    {
      "cell_type": "code",
      "source": [
        "train_x.shape"
      ],
      "metadata": {
        "colab": {
          "base_uri": "https://localhost:8080/"
        },
        "id": "sH1GpAbGAlMu",
        "outputId": "7b780a0b-4afe-4aaf-c5c2-5d90272d415f"
      },
      "execution_count": 560,
      "outputs": [
        {
          "output_type": "execute_result",
          "data": {
            "text/plain": [
              "(88685, 16)"
            ]
          },
          "metadata": {},
          "execution_count": 560
        }
      ]
    },
    {
      "cell_type": "code",
      "source": [
        "train_x.head()"
      ],
      "metadata": {
        "colab": {
          "base_uri": "https://localhost:8080/",
          "height": 270
        },
        "id": "G-g3C-e5O2c6",
        "outputId": "335f45f1-1035-4057-e17a-5f6de6bf4433"
      },
      "execution_count": 577,
      "outputs": [
        {
          "output_type": "execute_result",
          "data": {
            "text/html": [
              "\n",
              "  <div id=\"df-9cbc5034-72da-4446-8985-cfb9d8bb893c\">\n",
              "    <div class=\"colab-df-container\">\n",
              "      <div>\n",
              "<style scoped>\n",
              "    .dataframe tbody tr th:only-of-type {\n",
              "        vertical-align: middle;\n",
              "    }\n",
              "\n",
              "    .dataframe tbody tr th {\n",
              "        vertical-align: top;\n",
              "    }\n",
              "\n",
              "    .dataframe thead th {\n",
              "        text-align: right;\n",
              "    }\n",
              "</style>\n",
              "<table border=\"1\" class=\"dataframe\">\n",
              "  <thead>\n",
              "    <tr style=\"text-align: right;\">\n",
              "      <th></th>\n",
              "      <th>video_id</th>\n",
              "      <th>title</th>\n",
              "      <th>publishedAt</th>\n",
              "      <th>channelId</th>\n",
              "      <th>channelTitle</th>\n",
              "      <th>categoryId</th>\n",
              "      <th>trending_date</th>\n",
              "      <th>tags</th>\n",
              "      <th>thumbnail_link</th>\n",
              "      <th>comments_disabled</th>\n",
              "      <th>ratings_disabled</th>\n",
              "      <th>description</th>\n",
              "      <th>id</th>\n",
              "      <th>duration_seconds</th>\n",
              "      <th>has_thumbnail</th>\n",
              "      <th>target</th>\n",
              "    </tr>\n",
              "  </thead>\n",
              "  <tbody>\n",
              "    <tr>\n",
              "      <th>40</th>\n",
              "      <td>13127</td>\n",
              "      <td>12062</td>\n",
              "      <td>151</td>\n",
              "      <td>1577</td>\n",
              "      <td>3261</td>\n",
              "      <td>17</td>\n",
              "      <td>0</td>\n",
              "      <td>7871</td>\n",
              "      <td>13127</td>\n",
              "      <td>0</td>\n",
              "      <td>0</td>\n",
              "      <td>7186</td>\n",
              "      <td>71463</td>\n",
              "      <td>1112.0</td>\n",
              "      <td>1</td>\n",
              "      <td>8760</td>\n",
              "    </tr>\n",
              "    <tr>\n",
              "      <th>41</th>\n",
              "      <td>6505</td>\n",
              "      <td>1144</td>\n",
              "      <td>152</td>\n",
              "      <td>4147</td>\n",
              "      <td>4301</td>\n",
              "      <td>23</td>\n",
              "      <td>0</td>\n",
              "      <td>3097</td>\n",
              "      <td>6505</td>\n",
              "      <td>0</td>\n",
              "      <td>0</td>\n",
              "      <td>15047</td>\n",
              "      <td>35256</td>\n",
              "      <td>1083.0</td>\n",
              "      <td>1</td>\n",
              "      <td>73031</td>\n",
              "    </tr>\n",
              "    <tr>\n",
              "      <th>42</th>\n",
              "      <td>16071</td>\n",
              "      <td>14562</td>\n",
              "      <td>149</td>\n",
              "      <td>3838</td>\n",
              "      <td>3860</td>\n",
              "      <td>28</td>\n",
              "      <td>0</td>\n",
              "      <td>11953</td>\n",
              "      <td>16071</td>\n",
              "      <td>0</td>\n",
              "      <td>0</td>\n",
              "      <td>10680</td>\n",
              "      <td>87723</td>\n",
              "      <td>438.0</td>\n",
              "      <td>0</td>\n",
              "      <td>54543</td>\n",
              "    </tr>\n",
              "    <tr>\n",
              "      <th>43</th>\n",
              "      <td>11348</td>\n",
              "      <td>5031</td>\n",
              "      <td>157</td>\n",
              "      <td>693</td>\n",
              "      <td>454</td>\n",
              "      <td>17</td>\n",
              "      <td>0</td>\n",
              "      <td>6172</td>\n",
              "      <td>11348</td>\n",
              "      <td>0</td>\n",
              "      <td>0</td>\n",
              "      <td>6017</td>\n",
              "      <td>61732</td>\n",
              "      <td>164.0</td>\n",
              "      <td>0</td>\n",
              "      <td>6213</td>\n",
              "    </tr>\n",
              "    <tr>\n",
              "      <th>44</th>\n",
              "      <td>13523</td>\n",
              "      <td>6514</td>\n",
              "      <td>138</td>\n",
              "      <td>3596</td>\n",
              "      <td>3900</td>\n",
              "      <td>22</td>\n",
              "      <td>0</td>\n",
              "      <td>12015</td>\n",
              "      <td>13523</td>\n",
              "      <td>0</td>\n",
              "      <td>0</td>\n",
              "      <td>16922</td>\n",
              "      <td>73576</td>\n",
              "      <td>1572.0</td>\n",
              "      <td>0</td>\n",
              "      <td>43055</td>\n",
              "    </tr>\n",
              "  </tbody>\n",
              "</table>\n",
              "</div>\n",
              "      <button class=\"colab-df-convert\" onclick=\"convertToInteractive('df-9cbc5034-72da-4446-8985-cfb9d8bb893c')\"\n",
              "              title=\"Convert this dataframe to an interactive table.\"\n",
              "              style=\"display:none;\">\n",
              "        \n",
              "  <svg xmlns=\"http://www.w3.org/2000/svg\" height=\"24px\"viewBox=\"0 0 24 24\"\n",
              "       width=\"24px\">\n",
              "    <path d=\"M0 0h24v24H0V0z\" fill=\"none\"/>\n",
              "    <path d=\"M18.56 5.44l.94 2.06.94-2.06 2.06-.94-2.06-.94-.94-2.06-.94 2.06-2.06.94zm-11 1L8.5 8.5l.94-2.06 2.06-.94-2.06-.94L8.5 2.5l-.94 2.06-2.06.94zm10 10l.94 2.06.94-2.06 2.06-.94-2.06-.94-.94-2.06-.94 2.06-2.06.94z\"/><path d=\"M17.41 7.96l-1.37-1.37c-.4-.4-.92-.59-1.43-.59-.52 0-1.04.2-1.43.59L10.3 9.45l-7.72 7.72c-.78.78-.78 2.05 0 2.83L4 21.41c.39.39.9.59 1.41.59.51 0 1.02-.2 1.41-.59l7.78-7.78 2.81-2.81c.8-.78.8-2.07 0-2.86zM5.41 20L4 18.59l7.72-7.72 1.47 1.35L5.41 20z\"/>\n",
              "  </svg>\n",
              "      </button>\n",
              "      \n",
              "  <style>\n",
              "    .colab-df-container {\n",
              "      display:flex;\n",
              "      flex-wrap:wrap;\n",
              "      gap: 12px;\n",
              "    }\n",
              "\n",
              "    .colab-df-convert {\n",
              "      background-color: #E8F0FE;\n",
              "      border: none;\n",
              "      border-radius: 50%;\n",
              "      cursor: pointer;\n",
              "      display: none;\n",
              "      fill: #1967D2;\n",
              "      height: 32px;\n",
              "      padding: 0 0 0 0;\n",
              "      width: 32px;\n",
              "    }\n",
              "\n",
              "    .colab-df-convert:hover {\n",
              "      background-color: #E2EBFA;\n",
              "      box-shadow: 0px 1px 2px rgba(60, 64, 67, 0.3), 0px 1px 3px 1px rgba(60, 64, 67, 0.15);\n",
              "      fill: #174EA6;\n",
              "    }\n",
              "\n",
              "    [theme=dark] .colab-df-convert {\n",
              "      background-color: #3B4455;\n",
              "      fill: #D2E3FC;\n",
              "    }\n",
              "\n",
              "    [theme=dark] .colab-df-convert:hover {\n",
              "      background-color: #434B5C;\n",
              "      box-shadow: 0px 1px 3px 1px rgba(0, 0, 0, 0.15);\n",
              "      filter: drop-shadow(0px 1px 2px rgba(0, 0, 0, 0.3));\n",
              "      fill: #FFFFFF;\n",
              "    }\n",
              "  </style>\n",
              "\n",
              "      <script>\n",
              "        const buttonEl =\n",
              "          document.querySelector('#df-9cbc5034-72da-4446-8985-cfb9d8bb893c button.colab-df-convert');\n",
              "        buttonEl.style.display =\n",
              "          google.colab.kernel.accessAllowed ? 'block' : 'none';\n",
              "\n",
              "        async function convertToInteractive(key) {\n",
              "          const element = document.querySelector('#df-9cbc5034-72da-4446-8985-cfb9d8bb893c');\n",
              "          const dataTable =\n",
              "            await google.colab.kernel.invokeFunction('convertToInteractive',\n",
              "                                                     [key], {});\n",
              "          if (!dataTable) return;\n",
              "\n",
              "          const docLinkHtml = 'Like what you see? Visit the ' +\n",
              "            '<a target=\"_blank\" href=https://colab.research.google.com/notebooks/data_table.ipynb>data table notebook</a>'\n",
              "            + ' to learn more about interactive tables.';\n",
              "          element.innerHTML = '';\n",
              "          dataTable['output_type'] = 'display_data';\n",
              "          await google.colab.output.renderOutput(dataTable, element);\n",
              "          const docLink = document.createElement('div');\n",
              "          docLink.innerHTML = docLinkHtml;\n",
              "          element.appendChild(docLink);\n",
              "        }\n",
              "      </script>\n",
              "    </div>\n",
              "  </div>\n",
              "  "
            ],
            "text/plain": [
              "    video_id  title  publishedAt  ...  duration_seconds  has_thumbnail  target\n",
              "40     13127  12062          151  ...            1112.0              1    8760\n",
              "41      6505   1144          152  ...            1083.0              1   73031\n",
              "42     16071  14562          149  ...             438.0              0   54543\n",
              "43     11348   5031          157  ...             164.0              0    6213\n",
              "44     13523   6514          138  ...            1572.0              0   43055\n",
              "\n",
              "[5 rows x 16 columns]"
            ]
          },
          "metadata": {},
          "execution_count": 577
        }
      ]
    },
    {
      "cell_type": "code",
      "source": [
        "train_data.head()"
      ],
      "metadata": {
        "colab": {
          "base_uri": "https://localhost:8080/",
          "height": 270
        },
        "id": "pU9cHg9whcDL",
        "outputId": "b930eb8a-5686-41d3-808d-23dfed928993"
      },
      "execution_count": 563,
      "outputs": [
        {
          "output_type": "execute_result",
          "data": {
            "text/html": [
              "\n",
              "  <div id=\"df-dce808ac-775c-4377-adf4-73ec7d9b4dfe\">\n",
              "    <div class=\"colab-df-container\">\n",
              "      <div>\n",
              "<style scoped>\n",
              "    .dataframe tbody tr th:only-of-type {\n",
              "        vertical-align: middle;\n",
              "    }\n",
              "\n",
              "    .dataframe tbody tr th {\n",
              "        vertical-align: top;\n",
              "    }\n",
              "\n",
              "    .dataframe thead th {\n",
              "        text-align: right;\n",
              "    }\n",
              "</style>\n",
              "<table border=\"1\" class=\"dataframe\">\n",
              "  <thead>\n",
              "    <tr style=\"text-align: right;\">\n",
              "      <th></th>\n",
              "      <th>video_id</th>\n",
              "      <th>title</th>\n",
              "      <th>publishedAt</th>\n",
              "      <th>channelId</th>\n",
              "      <th>channelTitle</th>\n",
              "      <th>categoryId</th>\n",
              "      <th>trending_date</th>\n",
              "      <th>tags</th>\n",
              "      <th>view_count</th>\n",
              "      <th>likes</th>\n",
              "      <th>dislikes</th>\n",
              "      <th>comment_count</th>\n",
              "      <th>thumbnail_link</th>\n",
              "      <th>comments_disabled</th>\n",
              "      <th>ratings_disabled</th>\n",
              "      <th>description</th>\n",
              "      <th>id</th>\n",
              "      <th>duration_seconds</th>\n",
              "      <th>has_thumbnail</th>\n",
              "      <th>target</th>\n",
              "      <th>publishedAt\\t</th>\n",
              "    </tr>\n",
              "  </thead>\n",
              "  <tbody>\n",
              "    <tr>\n",
              "      <th>40</th>\n",
              "      <td>13127</td>\n",
              "      <td>12062</td>\n",
              "      <td>151</td>\n",
              "      <td>1577</td>\n",
              "      <td>3261</td>\n",
              "      <td>17</td>\n",
              "      <td>0</td>\n",
              "      <td>7871</td>\n",
              "      <td>540613</td>\n",
              "      <td>7155</td>\n",
              "      <td>308</td>\n",
              "      <td>1647</td>\n",
              "      <td>13127</td>\n",
              "      <td>0</td>\n",
              "      <td>0</td>\n",
              "      <td>7186</td>\n",
              "      <td>71463</td>\n",
              "      <td>1112.0</td>\n",
              "      <td>1</td>\n",
              "      <td>8760</td>\n",
              "      <td>151</td>\n",
              "    </tr>\n",
              "    <tr>\n",
              "      <th>41</th>\n",
              "      <td>6505</td>\n",
              "      <td>1144</td>\n",
              "      <td>152</td>\n",
              "      <td>4147</td>\n",
              "      <td>4301</td>\n",
              "      <td>23</td>\n",
              "      <td>0</td>\n",
              "      <td>3097</td>\n",
              "      <td>430836</td>\n",
              "      <td>37754</td>\n",
              "      <td>256</td>\n",
              "      <td>4818</td>\n",
              "      <td>6505</td>\n",
              "      <td>0</td>\n",
              "      <td>0</td>\n",
              "      <td>15047</td>\n",
              "      <td>35256</td>\n",
              "      <td>1083.0</td>\n",
              "      <td>1</td>\n",
              "      <td>73031</td>\n",
              "      <td>152</td>\n",
              "    </tr>\n",
              "    <tr>\n",
              "      <th>42</th>\n",
              "      <td>16071</td>\n",
              "      <td>14562</td>\n",
              "      <td>149</td>\n",
              "      <td>3838</td>\n",
              "      <td>3860</td>\n",
              "      <td>28</td>\n",
              "      <td>0</td>\n",
              "      <td>11953</td>\n",
              "      <td>997102</td>\n",
              "      <td>60993</td>\n",
              "      <td>8847</td>\n",
              "      <td>13810</td>\n",
              "      <td>16071</td>\n",
              "      <td>0</td>\n",
              "      <td>0</td>\n",
              "      <td>10680</td>\n",
              "      <td>87723</td>\n",
              "      <td>438.0</td>\n",
              "      <td>0</td>\n",
              "      <td>54543</td>\n",
              "      <td>149</td>\n",
              "    </tr>\n",
              "    <tr>\n",
              "      <th>43</th>\n",
              "      <td>11348</td>\n",
              "      <td>5031</td>\n",
              "      <td>157</td>\n",
              "      <td>693</td>\n",
              "      <td>454</td>\n",
              "      <td>17</td>\n",
              "      <td>0</td>\n",
              "      <td>6172</td>\n",
              "      <td>756814</td>\n",
              "      <td>8278</td>\n",
              "      <td>331</td>\n",
              "      <td>2441</td>\n",
              "      <td>11348</td>\n",
              "      <td>0</td>\n",
              "      <td>0</td>\n",
              "      <td>6017</td>\n",
              "      <td>61732</td>\n",
              "      <td>164.0</td>\n",
              "      <td>0</td>\n",
              "      <td>6213</td>\n",
              "      <td>157</td>\n",
              "    </tr>\n",
              "    <tr>\n",
              "      <th>44</th>\n",
              "      <td>13523</td>\n",
              "      <td>6514</td>\n",
              "      <td>138</td>\n",
              "      <td>3596</td>\n",
              "      <td>3900</td>\n",
              "      <td>22</td>\n",
              "      <td>0</td>\n",
              "      <td>12015</td>\n",
              "      <td>143091</td>\n",
              "      <td>7159</td>\n",
              "      <td>349</td>\n",
              "      <td>805</td>\n",
              "      <td>13523</td>\n",
              "      <td>0</td>\n",
              "      <td>0</td>\n",
              "      <td>16922</td>\n",
              "      <td>73576</td>\n",
              "      <td>1572.0</td>\n",
              "      <td>0</td>\n",
              "      <td>43055</td>\n",
              "      <td>138</td>\n",
              "    </tr>\n",
              "  </tbody>\n",
              "</table>\n",
              "</div>\n",
              "      <button class=\"colab-df-convert\" onclick=\"convertToInteractive('df-dce808ac-775c-4377-adf4-73ec7d9b4dfe')\"\n",
              "              title=\"Convert this dataframe to an interactive table.\"\n",
              "              style=\"display:none;\">\n",
              "        \n",
              "  <svg xmlns=\"http://www.w3.org/2000/svg\" height=\"24px\"viewBox=\"0 0 24 24\"\n",
              "       width=\"24px\">\n",
              "    <path d=\"M0 0h24v24H0V0z\" fill=\"none\"/>\n",
              "    <path d=\"M18.56 5.44l.94 2.06.94-2.06 2.06-.94-2.06-.94-.94-2.06-.94 2.06-2.06.94zm-11 1L8.5 8.5l.94-2.06 2.06-.94-2.06-.94L8.5 2.5l-.94 2.06-2.06.94zm10 10l.94 2.06.94-2.06 2.06-.94-2.06-.94-.94-2.06-.94 2.06-2.06.94z\"/><path d=\"M17.41 7.96l-1.37-1.37c-.4-.4-.92-.59-1.43-.59-.52 0-1.04.2-1.43.59L10.3 9.45l-7.72 7.72c-.78.78-.78 2.05 0 2.83L4 21.41c.39.39.9.59 1.41.59.51 0 1.02-.2 1.41-.59l7.78-7.78 2.81-2.81c.8-.78.8-2.07 0-2.86zM5.41 20L4 18.59l7.72-7.72 1.47 1.35L5.41 20z\"/>\n",
              "  </svg>\n",
              "      </button>\n",
              "      \n",
              "  <style>\n",
              "    .colab-df-container {\n",
              "      display:flex;\n",
              "      flex-wrap:wrap;\n",
              "      gap: 12px;\n",
              "    }\n",
              "\n",
              "    .colab-df-convert {\n",
              "      background-color: #E8F0FE;\n",
              "      border: none;\n",
              "      border-radius: 50%;\n",
              "      cursor: pointer;\n",
              "      display: none;\n",
              "      fill: #1967D2;\n",
              "      height: 32px;\n",
              "      padding: 0 0 0 0;\n",
              "      width: 32px;\n",
              "    }\n",
              "\n",
              "    .colab-df-convert:hover {\n",
              "      background-color: #E2EBFA;\n",
              "      box-shadow: 0px 1px 2px rgba(60, 64, 67, 0.3), 0px 1px 3px 1px rgba(60, 64, 67, 0.15);\n",
              "      fill: #174EA6;\n",
              "    }\n",
              "\n",
              "    [theme=dark] .colab-df-convert {\n",
              "      background-color: #3B4455;\n",
              "      fill: #D2E3FC;\n",
              "    }\n",
              "\n",
              "    [theme=dark] .colab-df-convert:hover {\n",
              "      background-color: #434B5C;\n",
              "      box-shadow: 0px 1px 3px 1px rgba(0, 0, 0, 0.15);\n",
              "      filter: drop-shadow(0px 1px 2px rgba(0, 0, 0, 0.3));\n",
              "      fill: #FFFFFF;\n",
              "    }\n",
              "  </style>\n",
              "\n",
              "      <script>\n",
              "        const buttonEl =\n",
              "          document.querySelector('#df-dce808ac-775c-4377-adf4-73ec7d9b4dfe button.colab-df-convert');\n",
              "        buttonEl.style.display =\n",
              "          google.colab.kernel.accessAllowed ? 'block' : 'none';\n",
              "\n",
              "        async function convertToInteractive(key) {\n",
              "          const element = document.querySelector('#df-dce808ac-775c-4377-adf4-73ec7d9b4dfe');\n",
              "          const dataTable =\n",
              "            await google.colab.kernel.invokeFunction('convertToInteractive',\n",
              "                                                     [key], {});\n",
              "          if (!dataTable) return;\n",
              "\n",
              "          const docLinkHtml = 'Like what you see? Visit the ' +\n",
              "            '<a target=\"_blank\" href=https://colab.research.google.com/notebooks/data_table.ipynb>data table notebook</a>'\n",
              "            + ' to learn more about interactive tables.';\n",
              "          element.innerHTML = '';\n",
              "          dataTable['output_type'] = 'display_data';\n",
              "          await google.colab.output.renderOutput(dataTable, element);\n",
              "          const docLink = document.createElement('div');\n",
              "          docLink.innerHTML = docLinkHtml;\n",
              "          element.appendChild(docLink);\n",
              "        }\n",
              "      </script>\n",
              "    </div>\n",
              "  </div>\n",
              "  "
            ],
            "text/plain": [
              "    video_id  title  publishedAt  ...  has_thumbnail  target  publishedAt\\t\n",
              "40     13127  12062          151  ...              1    8760            151\n",
              "41      6505   1144          152  ...              1   73031            152\n",
              "42     16071  14562          149  ...              0   54543            149\n",
              "43     11348   5031          157  ...              0    6213            157\n",
              "44     13523   6514          138  ...              0   43055            138\n",
              "\n",
              "[5 rows x 21 columns]"
            ]
          },
          "metadata": {},
          "execution_count": 563
        }
      ]
    },
    {
      "cell_type": "code",
      "source": [
        "train_data['video_id'].nunique()"
      ],
      "metadata": {
        "colab": {
          "base_uri": "https://localhost:8080/"
        },
        "id": "ahxop7OKhii1",
        "outputId": "079e8ca8-5466-4e4a-93b6-d8fca8f6eba0"
      },
      "execution_count": 564,
      "outputs": [
        {
          "output_type": "execute_result",
          "data": {
            "text/plain": [
              "16248"
            ]
          },
          "metadata": {},
          "execution_count": 564
        }
      ]
    },
    {
      "cell_type": "code",
      "source": [
        "train_data.info()"
      ],
      "metadata": {
        "colab": {
          "base_uri": "https://localhost:8080/"
        },
        "id": "_pTjn1DphT-B",
        "outputId": "197e24c7-4e70-4f20-9d15-a0e413f0304d"
      },
      "execution_count": 565,
      "outputs": [
        {
          "output_type": "stream",
          "name": "stdout",
          "text": [
            "<class 'pandas.core.frame.DataFrame'>\n",
            "Int64Index: 88685 entries, 40 to 92274\n",
            "Data columns (total 21 columns):\n",
            " #   Column             Non-Null Count  Dtype  \n",
            "---  ------             --------------  -----  \n",
            " 0   video_id           88685 non-null  int64  \n",
            " 1   title              88685 non-null  int64  \n",
            " 2   publishedAt        88685 non-null  int64  \n",
            " 3   channelId          88685 non-null  int64  \n",
            " 4   channelTitle       88685 non-null  int64  \n",
            " 5   categoryId         88685 non-null  int64  \n",
            " 6   trending_date      88685 non-null  int64  \n",
            " 7   tags               88685 non-null  int64  \n",
            " 8   view_count         88685 non-null  int64  \n",
            " 9   likes              88685 non-null  int64  \n",
            " 10  dislikes           88685 non-null  int64  \n",
            " 11  comment_count      88685 non-null  int64  \n",
            " 12  thumbnail_link     88685 non-null  int64  \n",
            " 13  comments_disabled  88685 non-null  int64  \n",
            " 14  ratings_disabled   88685 non-null  int64  \n",
            " 15  description        88685 non-null  int64  \n",
            " 16  id                 88685 non-null  int64  \n",
            " 17  duration_seconds   88685 non-null  float64\n",
            " 18  has_thumbnail      88685 non-null  int64  \n",
            " 19  target             88685 non-null  int64  \n",
            " 20  publishedAt\t       88685 non-null  int64  \n",
            "dtypes: float64(1), int64(20)\n",
            "memory usage: 16.9 MB\n"
          ]
        }
      ]
    },
    {
      "cell_type": "code",
      "source": [
        "train_data.nunique()"
      ],
      "metadata": {
        "colab": {
          "base_uri": "https://localhost:8080/"
        },
        "id": "LrvMxrrtrQZU",
        "outputId": "faf015e8-c693-4ac1-e287-bddca9b7311c"
      },
      "execution_count": 566,
      "outputs": [
        {
          "output_type": "execute_result",
          "data": {
            "text/plain": [
              "video_id             16248\n",
              "title                16587\n",
              "publishedAt          15976\n",
              "channelId             4343\n",
              "channelTitle          4407\n",
              "categoryId              15\n",
              "trending_date          461\n",
              "tags                 12541\n",
              "view_count           87424\n",
              "likes                69661\n",
              "dislikes             12377\n",
              "comment_count        25211\n",
              "thumbnail_link       16248\n",
              "comments_disabled        2\n",
              "ratings_disabled         2\n",
              "description          17260\n",
              "id                   88685\n",
              "duration_seconds      2326\n",
              "has_thumbnail            2\n",
              "target               88274\n",
              "publishedAt\\t        15976\n",
              "dtype: int64"
            ]
          },
          "metadata": {},
          "execution_count": 566
        }
      ]
    },
    {
      "cell_type": "code",
      "source": [
        "train_data.describe().T"
      ],
      "metadata": {
        "colab": {
          "base_uri": "https://localhost:8080/",
          "height": 708
        },
        "id": "1r4b54v-qUfJ",
        "outputId": "29e3d201-e9e7-47f1-f797-6c41eb979e28"
      },
      "execution_count": 567,
      "outputs": [
        {
          "output_type": "execute_result",
          "data": {
            "text/html": [
              "\n",
              "  <div id=\"df-fcefe43a-fac8-41ff-bf27-2296e07cc9fa\">\n",
              "    <div class=\"colab-df-container\">\n",
              "      <div>\n",
              "<style scoped>\n",
              "    .dataframe tbody tr th:only-of-type {\n",
              "        vertical-align: middle;\n",
              "    }\n",
              "\n",
              "    .dataframe tbody tr th {\n",
              "        vertical-align: top;\n",
              "    }\n",
              "\n",
              "    .dataframe thead th {\n",
              "        text-align: right;\n",
              "    }\n",
              "</style>\n",
              "<table border=\"1\" class=\"dataframe\">\n",
              "  <thead>\n",
              "    <tr style=\"text-align: right;\">\n",
              "      <th></th>\n",
              "      <th>count</th>\n",
              "      <th>mean</th>\n",
              "      <th>std</th>\n",
              "      <th>min</th>\n",
              "      <th>25%</th>\n",
              "      <th>50%</th>\n",
              "      <th>75%</th>\n",
              "      <th>max</th>\n",
              "    </tr>\n",
              "  </thead>\n",
              "  <tbody>\n",
              "    <tr>\n",
              "      <th>video_id</th>\n",
              "      <td>88685.0</td>\n",
              "      <td>8.153852e+03</td>\n",
              "      <td>4.693857e+03</td>\n",
              "      <td>0.0</td>\n",
              "      <td>4096.0</td>\n",
              "      <td>8165.0</td>\n",
              "      <td>12217.0</td>\n",
              "      <td>16247.0</td>\n",
              "    </tr>\n",
              "    <tr>\n",
              "      <th>title</th>\n",
              "      <td>88685.0</td>\n",
              "      <td>8.288449e+03</td>\n",
              "      <td>4.788454e+03</td>\n",
              "      <td>0.0</td>\n",
              "      <td>4170.0</td>\n",
              "      <td>8262.0</td>\n",
              "      <td>12435.0</td>\n",
              "      <td>16586.0</td>\n",
              "    </tr>\n",
              "    <tr>\n",
              "      <th>publishedAt</th>\n",
              "      <td>88685.0</td>\n",
              "      <td>7.759430e+03</td>\n",
              "      <td>4.419650e+03</td>\n",
              "      <td>0.0</td>\n",
              "      <td>4142.0</td>\n",
              "      <td>7548.0</td>\n",
              "      <td>11500.0</td>\n",
              "      <td>15975.0</td>\n",
              "    </tr>\n",
              "    <tr>\n",
              "      <th>channelId</th>\n",
              "      <td>88685.0</td>\n",
              "      <td>2.173027e+03</td>\n",
              "      <td>1.260877e+03</td>\n",
              "      <td>0.0</td>\n",
              "      <td>1072.0</td>\n",
              "      <td>2155.0</td>\n",
              "      <td>3317.0</td>\n",
              "      <td>4342.0</td>\n",
              "    </tr>\n",
              "    <tr>\n",
              "      <th>channelTitle</th>\n",
              "      <td>88685.0</td>\n",
              "      <td>2.229862e+03</td>\n",
              "      <td>1.263827e+03</td>\n",
              "      <td>0.0</td>\n",
              "      <td>1101.0</td>\n",
              "      <td>2309.0</td>\n",
              "      <td>3291.0</td>\n",
              "      <td>4406.0</td>\n",
              "    </tr>\n",
              "    <tr>\n",
              "      <th>categoryId</th>\n",
              "      <td>88685.0</td>\n",
              "      <td>1.869132e+01</td>\n",
              "      <td>6.872608e+00</td>\n",
              "      <td>1.0</td>\n",
              "      <td>17.0</td>\n",
              "      <td>20.0</td>\n",
              "      <td>24.0</td>\n",
              "      <td>29.0</td>\n",
              "    </tr>\n",
              "    <tr>\n",
              "      <th>trending_date</th>\n",
              "      <td>88685.0</td>\n",
              "      <td>2.304114e+02</td>\n",
              "      <td>1.325001e+02</td>\n",
              "      <td>0.0</td>\n",
              "      <td>116.0</td>\n",
              "      <td>231.0</td>\n",
              "      <td>345.0</td>\n",
              "      <td>460.0</td>\n",
              "    </tr>\n",
              "    <tr>\n",
              "      <th>tags</th>\n",
              "      <td>88685.0</td>\n",
              "      <td>6.226258e+03</td>\n",
              "      <td>3.388333e+03</td>\n",
              "      <td>0.0</td>\n",
              "      <td>3702.0</td>\n",
              "      <td>5444.0</td>\n",
              "      <td>9001.0</td>\n",
              "      <td>12540.0</td>\n",
              "    </tr>\n",
              "    <tr>\n",
              "      <th>view_count</th>\n",
              "      <td>88685.0</td>\n",
              "      <td>2.757380e+06</td>\n",
              "      <td>7.323528e+06</td>\n",
              "      <td>38510.0</td>\n",
              "      <td>532669.0</td>\n",
              "      <td>1101078.0</td>\n",
              "      <td>2480426.0</td>\n",
              "      <td>264407389.0</td>\n",
              "    </tr>\n",
              "    <tr>\n",
              "      <th>likes</th>\n",
              "      <td>88685.0</td>\n",
              "      <td>1.520009e+05</td>\n",
              "      <td>4.410805e+05</td>\n",
              "      <td>0.0</td>\n",
              "      <td>21588.0</td>\n",
              "      <td>51796.0</td>\n",
              "      <td>130945.0</td>\n",
              "      <td>16021534.0</td>\n",
              "    </tr>\n",
              "    <tr>\n",
              "      <th>dislikes</th>\n",
              "      <td>88685.0</td>\n",
              "      <td>3.014700e+03</td>\n",
              "      <td>1.325240e+04</td>\n",
              "      <td>0.0</td>\n",
              "      <td>367.0</td>\n",
              "      <td>842.0</td>\n",
              "      <td>2205.0</td>\n",
              "      <td>879354.0</td>\n",
              "    </tr>\n",
              "    <tr>\n",
              "      <th>comment_count</th>\n",
              "      <td>88685.0</td>\n",
              "      <td>1.399447e+04</td>\n",
              "      <td>9.859033e+04</td>\n",
              "      <td>0.0</td>\n",
              "      <td>1753.0</td>\n",
              "      <td>3940.0</td>\n",
              "      <td>9433.0</td>\n",
              "      <td>6738537.0</td>\n",
              "    </tr>\n",
              "    <tr>\n",
              "      <th>thumbnail_link</th>\n",
              "      <td>88685.0</td>\n",
              "      <td>8.153852e+03</td>\n",
              "      <td>4.693857e+03</td>\n",
              "      <td>0.0</td>\n",
              "      <td>4096.0</td>\n",
              "      <td>8165.0</td>\n",
              "      <td>12217.0</td>\n",
              "      <td>16247.0</td>\n",
              "    </tr>\n",
              "    <tr>\n",
              "      <th>comments_disabled</th>\n",
              "      <td>88685.0</td>\n",
              "      <td>1.523369e-02</td>\n",
              "      <td>1.224818e-01</td>\n",
              "      <td>0.0</td>\n",
              "      <td>0.0</td>\n",
              "      <td>0.0</td>\n",
              "      <td>0.0</td>\n",
              "      <td>1.0</td>\n",
              "    </tr>\n",
              "    <tr>\n",
              "      <th>ratings_disabled</th>\n",
              "      <td>88685.0</td>\n",
              "      <td>4.634380e-03</td>\n",
              "      <td>6.791874e-02</td>\n",
              "      <td>0.0</td>\n",
              "      <td>0.0</td>\n",
              "      <td>0.0</td>\n",
              "      <td>0.0</td>\n",
              "      <td>1.0</td>\n",
              "    </tr>\n",
              "    <tr>\n",
              "      <th>description</th>\n",
              "      <td>88685.0</td>\n",
              "      <td>8.614074e+03</td>\n",
              "      <td>4.996557e+03</td>\n",
              "      <td>0.0</td>\n",
              "      <td>4279.0</td>\n",
              "      <td>8578.0</td>\n",
              "      <td>12946.0</td>\n",
              "      <td>17259.0</td>\n",
              "    </tr>\n",
              "    <tr>\n",
              "      <th>id</th>\n",
              "      <td>88685.0</td>\n",
              "      <td>4.434200e+04</td>\n",
              "      <td>2.560130e+04</td>\n",
              "      <td>0.0</td>\n",
              "      <td>22171.0</td>\n",
              "      <td>44342.0</td>\n",
              "      <td>66513.0</td>\n",
              "      <td>88684.0</td>\n",
              "    </tr>\n",
              "    <tr>\n",
              "      <th>duration_seconds</th>\n",
              "      <td>88685.0</td>\n",
              "      <td>7.696013e+02</td>\n",
              "      <td>5.861869e+03</td>\n",
              "      <td>3.0</td>\n",
              "      <td>188.0</td>\n",
              "      <td>462.0</td>\n",
              "      <td>861.0</td>\n",
              "      <td>485620.0</td>\n",
              "    </tr>\n",
              "    <tr>\n",
              "      <th>has_thumbnail</th>\n",
              "      <td>88685.0</td>\n",
              "      <td>8.944354e-01</td>\n",
              "      <td>3.072813e-01</td>\n",
              "      <td>0.0</td>\n",
              "      <td>1.0</td>\n",
              "      <td>1.0</td>\n",
              "      <td>1.0</td>\n",
              "      <td>1.0</td>\n",
              "    </tr>\n",
              "    <tr>\n",
              "      <th>target</th>\n",
              "      <td>88685.0</td>\n",
              "      <td>4.393200e+04</td>\n",
              "      <td>2.559959e+04</td>\n",
              "      <td>0.0</td>\n",
              "      <td>21760.0</td>\n",
              "      <td>43931.0</td>\n",
              "      <td>66102.0</td>\n",
              "      <td>88273.0</td>\n",
              "    </tr>\n",
              "    <tr>\n",
              "      <th>publishedAt\\t</th>\n",
              "      <td>88685.0</td>\n",
              "      <td>7.759430e+03</td>\n",
              "      <td>4.419650e+03</td>\n",
              "      <td>0.0</td>\n",
              "      <td>4142.0</td>\n",
              "      <td>7548.0</td>\n",
              "      <td>11500.0</td>\n",
              "      <td>15975.0</td>\n",
              "    </tr>\n",
              "  </tbody>\n",
              "</table>\n",
              "</div>\n",
              "      <button class=\"colab-df-convert\" onclick=\"convertToInteractive('df-fcefe43a-fac8-41ff-bf27-2296e07cc9fa')\"\n",
              "              title=\"Convert this dataframe to an interactive table.\"\n",
              "              style=\"display:none;\">\n",
              "        \n",
              "  <svg xmlns=\"http://www.w3.org/2000/svg\" height=\"24px\"viewBox=\"0 0 24 24\"\n",
              "       width=\"24px\">\n",
              "    <path d=\"M0 0h24v24H0V0z\" fill=\"none\"/>\n",
              "    <path d=\"M18.56 5.44l.94 2.06.94-2.06 2.06-.94-2.06-.94-.94-2.06-.94 2.06-2.06.94zm-11 1L8.5 8.5l.94-2.06 2.06-.94-2.06-.94L8.5 2.5l-.94 2.06-2.06.94zm10 10l.94 2.06.94-2.06 2.06-.94-2.06-.94-.94-2.06-.94 2.06-2.06.94z\"/><path d=\"M17.41 7.96l-1.37-1.37c-.4-.4-.92-.59-1.43-.59-.52 0-1.04.2-1.43.59L10.3 9.45l-7.72 7.72c-.78.78-.78 2.05 0 2.83L4 21.41c.39.39.9.59 1.41.59.51 0 1.02-.2 1.41-.59l7.78-7.78 2.81-2.81c.8-.78.8-2.07 0-2.86zM5.41 20L4 18.59l7.72-7.72 1.47 1.35L5.41 20z\"/>\n",
              "  </svg>\n",
              "      </button>\n",
              "      \n",
              "  <style>\n",
              "    .colab-df-container {\n",
              "      display:flex;\n",
              "      flex-wrap:wrap;\n",
              "      gap: 12px;\n",
              "    }\n",
              "\n",
              "    .colab-df-convert {\n",
              "      background-color: #E8F0FE;\n",
              "      border: none;\n",
              "      border-radius: 50%;\n",
              "      cursor: pointer;\n",
              "      display: none;\n",
              "      fill: #1967D2;\n",
              "      height: 32px;\n",
              "      padding: 0 0 0 0;\n",
              "      width: 32px;\n",
              "    }\n",
              "\n",
              "    .colab-df-convert:hover {\n",
              "      background-color: #E2EBFA;\n",
              "      box-shadow: 0px 1px 2px rgba(60, 64, 67, 0.3), 0px 1px 3px 1px rgba(60, 64, 67, 0.15);\n",
              "      fill: #174EA6;\n",
              "    }\n",
              "\n",
              "    [theme=dark] .colab-df-convert {\n",
              "      background-color: #3B4455;\n",
              "      fill: #D2E3FC;\n",
              "    }\n",
              "\n",
              "    [theme=dark] .colab-df-convert:hover {\n",
              "      background-color: #434B5C;\n",
              "      box-shadow: 0px 1px 3px 1px rgba(0, 0, 0, 0.15);\n",
              "      filter: drop-shadow(0px 1px 2px rgba(0, 0, 0, 0.3));\n",
              "      fill: #FFFFFF;\n",
              "    }\n",
              "  </style>\n",
              "\n",
              "      <script>\n",
              "        const buttonEl =\n",
              "          document.querySelector('#df-fcefe43a-fac8-41ff-bf27-2296e07cc9fa button.colab-df-convert');\n",
              "        buttonEl.style.display =\n",
              "          google.colab.kernel.accessAllowed ? 'block' : 'none';\n",
              "\n",
              "        async function convertToInteractive(key) {\n",
              "          const element = document.querySelector('#df-fcefe43a-fac8-41ff-bf27-2296e07cc9fa');\n",
              "          const dataTable =\n",
              "            await google.colab.kernel.invokeFunction('convertToInteractive',\n",
              "                                                     [key], {});\n",
              "          if (!dataTable) return;\n",
              "\n",
              "          const docLinkHtml = 'Like what you see? Visit the ' +\n",
              "            '<a target=\"_blank\" href=https://colab.research.google.com/notebooks/data_table.ipynb>data table notebook</a>'\n",
              "            + ' to learn more about interactive tables.';\n",
              "          element.innerHTML = '';\n",
              "          dataTable['output_type'] = 'display_data';\n",
              "          await google.colab.output.renderOutput(dataTable, element);\n",
              "          const docLink = document.createElement('div');\n",
              "          docLink.innerHTML = docLinkHtml;\n",
              "          element.appendChild(docLink);\n",
              "        }\n",
              "      </script>\n",
              "    </div>\n",
              "  </div>\n",
              "  "
            ],
            "text/plain": [
              "                     count          mean  ...        75%          max\n",
              "video_id           88685.0  8.153852e+03  ...    12217.0      16247.0\n",
              "title              88685.0  8.288449e+03  ...    12435.0      16586.0\n",
              "publishedAt        88685.0  7.759430e+03  ...    11500.0      15975.0\n",
              "channelId          88685.0  2.173027e+03  ...     3317.0       4342.0\n",
              "channelTitle       88685.0  2.229862e+03  ...     3291.0       4406.0\n",
              "categoryId         88685.0  1.869132e+01  ...       24.0         29.0\n",
              "trending_date      88685.0  2.304114e+02  ...      345.0        460.0\n",
              "tags               88685.0  6.226258e+03  ...     9001.0      12540.0\n",
              "view_count         88685.0  2.757380e+06  ...  2480426.0  264407389.0\n",
              "likes              88685.0  1.520009e+05  ...   130945.0   16021534.0\n",
              "dislikes           88685.0  3.014700e+03  ...     2205.0     879354.0\n",
              "comment_count      88685.0  1.399447e+04  ...     9433.0    6738537.0\n",
              "thumbnail_link     88685.0  8.153852e+03  ...    12217.0      16247.0\n",
              "comments_disabled  88685.0  1.523369e-02  ...        0.0          1.0\n",
              "ratings_disabled   88685.0  4.634380e-03  ...        0.0          1.0\n",
              "description        88685.0  8.614074e+03  ...    12946.0      17259.0\n",
              "id                 88685.0  4.434200e+04  ...    66513.0      88684.0\n",
              "duration_seconds   88685.0  7.696013e+02  ...      861.0     485620.0\n",
              "has_thumbnail      88685.0  8.944354e-01  ...        1.0          1.0\n",
              "target             88685.0  4.393200e+04  ...    66102.0      88273.0\n",
              "publishedAt\\t      88685.0  7.759430e+03  ...    11500.0      15975.0\n",
              "\n",
              "[21 rows x 8 columns]"
            ]
          },
          "metadata": {},
          "execution_count": 567
        }
      ]
    },
    {
      "cell_type": "code",
      "source": [
        "train_x.dtypes"
      ],
      "metadata": {
        "colab": {
          "base_uri": "https://localhost:8080/"
        },
        "id": "Dsxk1FTqpBa9",
        "outputId": "8a57a38c-ccbc-4b29-8131-1e12e3fe7c2f"
      },
      "execution_count": 568,
      "outputs": [
        {
          "output_type": "execute_result",
          "data": {
            "text/plain": [
              "video_id               int64\n",
              "title                  int64\n",
              "publishedAt            int64\n",
              "channelId              int64\n",
              "channelTitle           int64\n",
              "categoryId             int64\n",
              "trending_date          int64\n",
              "tags                   int64\n",
              "thumbnail_link         int64\n",
              "comments_disabled      int64\n",
              "ratings_disabled       int64\n",
              "description            int64\n",
              "id                     int64\n",
              "duration_seconds     float64\n",
              "has_thumbnail          int64\n",
              "target                 int64\n",
              "dtype: object"
            ]
          },
          "metadata": {},
          "execution_count": 568
        }
      ]
    },
    {
      "cell_type": "markdown",
      "source": [
        "**Model Preparation**"
      ],
      "metadata": {
        "id": "_DcahRxSsjQc"
      }
    },
    {
      "cell_type": "code",
      "source": [
        "from sklearn.model_selection import train_test_split\n",
        "from sklearn import preprocessing\n",
        "from sklearn import linear_model\n",
        "from sklearn.metrics import r2_score,mean_squared_error\n",
        "from sklearn.linear_model import Ridge\n",
        "from sklearn.model_selection import GridSearchCV\n",
        "from sklearn.linear_model import Lasso"
      ],
      "metadata": {
        "id": "ZKl8oXH1XqqH"
      },
      "execution_count": 569,
      "outputs": []
    },
    {
      "cell_type": "markdown",
      "source": [
        "**Linear Regression**"
      ],
      "metadata": {
        "id": "P7jahlrysxfk"
      }
    },
    {
      "cell_type": "code",
      "source": [
        "from sklearn.linear_model import LinearRegression"
      ],
      "metadata": {
        "id": "ibswJtptjq-I"
      },
      "execution_count": 570,
      "outputs": []
    },
    {
      "cell_type": "code",
      "source": [
        "model= LinearRegression()"
      ],
      "metadata": {
        "id": "Bg6WPqsLkDQq"
      },
      "execution_count": 571,
      "outputs": []
    },
    {
      "cell_type": "code",
      "source": [
        "model.fit(train_x,train_y)"
      ],
      "metadata": {
        "colab": {
          "base_uri": "https://localhost:8080/"
        },
        "id": "D2215_eikGiu",
        "outputId": "fd8ea840-fa6e-42e1-d8e8-61cb401a891a"
      },
      "execution_count": 572,
      "outputs": [
        {
          "output_type": "execute_result",
          "data": {
            "text/plain": [
              "LinearRegression()"
            ]
          },
          "metadata": {},
          "execution_count": 572
        }
      ]
    },
    {
      "cell_type": "code",
      "source": [
        "train_pred=model.predict(train_x)\n",
        "train_score=model.score(train_x,train_y)"
      ],
      "metadata": {
        "id": "4snlMfVVkrlL"
      },
      "execution_count": 573,
      "outputs": []
    },
    {
      "cell_type": "code",
      "source": [
        "model_prediction=model.predict(train_x)\n",
        "model_prediction"
      ],
      "metadata": {
        "colab": {
          "base_uri": "https://localhost:8080/"
        },
        "id": "BJGGFVl8kLCQ",
        "outputId": "91c52b86-4e31-4ebf-b2b7-401cd7921fd5"
      },
      "execution_count": 583,
      "outputs": [
        {
          "output_type": "execute_result",
          "data": {
            "text/plain": [
              "array([ 13031.18311657, 194435.42390216,  79870.77696638, ...,\n",
              "       222245.24599074, 287168.51710568, -33836.35613415])"
            ]
          },
          "metadata": {},
          "execution_count": 583
        }
      ]
    }
  ]
}